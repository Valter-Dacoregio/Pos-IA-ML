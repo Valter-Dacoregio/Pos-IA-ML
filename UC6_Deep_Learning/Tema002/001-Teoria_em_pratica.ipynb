{
 "cells": [
  {
   "cell_type": "code",
   "execution_count": 13,
   "metadata": {},
   "outputs": [],
   "source": [
    "# Reflita sobre a seguinte situação\n",
    "\n",
    "# Você precisa utilizar o conjunto de dados CIFAR-10\n",
    "# (KRIZHEVSKY, 2009) para treinar um modelo de visão\n",
    "# computacional e recebeu as seguintes instruções:\n",
    "# • Crie os conjuntos de treinamento e de teste da rede\n",
    "# neural, utilizando o método\n",
    "# keras.datasets.cifar10.load_data(); deve ser criado ainda\n",
    "# um conjunto de validação com as primeiras 5 mil imagens\n",
    "# do conjunto de treinamento.\n",
    "# • Crie uma rede neural profunda com 20 camadas ocultas\n",
    "# de 100 neurônios cada; a camada de entrada deve ter o\n",
    "# formato apropriado para o conjunto de dados; a função de\n",
    "# ativação das camadas ocultas deve ser “elu” e a\n",
    "# inicialização (hiperparâmetro kernel_initializer) deve ser\n",
    "# igual a “he_normal”.\n",
    "# A camada de saída deve ter o formato específico para\n",
    "# a quantidade de classes do conjunto de dados; sua\n",
    "# função de ativação deve ser a softmax.\n",
    "# • A métrica de desempenho da rede neural deve ser a\n",
    "# acurácia, e a função de perda deve ser\n",
    "# “sparse_categorical_crossentropy”.\n",
    "# • Faça o treinamento da rede neural considerando um\n",
    "# ciclo de 100 épocas. Em seguida, avalie o\n",
    "# desempenho da rede.\n",
    "# • Salve o modelo para utilizá-lo para o reconhecimento\n",
    "# de objetos no futuro."
   ]
  },
  {
   "cell_type": "code",
   "execution_count": 14,
   "metadata": {},
   "outputs": [],
   "source": [
    "# import o tensorflow e o keras\n",
    "import tensorflow as tf\n",
    "from tensorflow import keras\n",
    "import numpy as np"
   ]
  },
  {
   "cell_type": "code",
   "execution_count": 15,
   "metadata": {},
   "outputs": [],
   "source": [
    "keras.backend.clear_session()\n",
    "tf.random.set_seed(42)\n",
    "np.random.seed(42)"
   ]
  },
  {
   "cell_type": "code",
   "execution_count": null,
   "metadata": {},
   "outputs": [],
   "source": [
    "model = keras.models.Sequential()\n",
    "model.add(keras.layers.Flatten(input_shape=[32, 32, 3]))\n",
    "for _ in range(20):\n",
    "    model.add(keras.layers.Dense(100, activation=\"elu\", kernel_initializer=\"he_normal\"))"
   ]
  },
  {
   "cell_type": "code",
   "execution_count": 17,
   "metadata": {},
   "outputs": [],
   "source": [
    "model.add(keras.layers.Dense(10, activation=\"softmax\"))"
   ]
  },
  {
   "cell_type": "code",
   "execution_count": 18,
   "metadata": {},
   "outputs": [],
   "source": [
    "model.compile(loss=\"sparse_categorical_crossentropy\",\n",
    "                # optimizer=keras.optimizers.Nadam(),\n",
    "                metrics=[\"accuracy\"])"
   ]
  },
  {
   "cell_type": "code",
   "execution_count": 21,
   "metadata": {},
   "outputs": [],
   "source": [
    "dados = keras.datasets.cifar10.load_data()"
   ]
  },
  {
   "cell_type": "code",
   "execution_count": null,
   "metadata": {},
   "outputs": [],
   "source": [
    "(X_train_full, y_train_full), (X_test, y_test) = dados"
   ]
  },
  {
   "cell_type": "code",
   "execution_count": null,
   "metadata": {},
   "outputs": [],
   "source": [
    "# mostre o shape dos dados\n",
    "print(X_train_full.shape)\n",
    "print(y_train_full.shape)\n",
    "print(X_test.shape)\n",
    "print(y_test.shape)\n",
    "# mostre as primeiras 10 imagens\n",
    "import matplotlib.pyplot as plt\n",
    "for i in range(10):\n",
    "    plt.imshow(X_train_full[i])\n",
    "    # tamanho largura e altura da imagem\n",
    "    plt.show()\n"
   ]
  },
  {
   "cell_type": "code",
   "execution_count": null,
   "metadata": {},
   "outputs": [],
   "source": [
    "X_train = X_train_full[5000:]\n",
    "y_train = y_train_full[5000:]\n",
    "X_valid = X_train_full[:5000]\n",
    "y_valid = y_train_full[:5000]"
   ]
  },
  {
   "cell_type": "code",
   "execution_count": 33,
   "metadata": {},
   "outputs": [
    {
     "name": "stdout",
     "output_type": "stream",
     "text": [
      "Epoch 1/20\n",
      "\u001b[1m1407/1407\u001b[0m \u001b[32m━━━━━━━━━━━━━━━━━━━━\u001b[0m\u001b[37m\u001b[0m \u001b[1m4s\u001b[0m 3ms/step - accuracy: 0.2355 - loss: 1.9796 - val_accuracy: 0.2396 - val_loss: 1.9617\n",
      "Epoch 2/20\n",
      "\u001b[1m1407/1407\u001b[0m \u001b[32m━━━━━━━━━━━━━━━━━━━━\u001b[0m\u001b[37m\u001b[0m \u001b[1m4s\u001b[0m 3ms/step - accuracy: 0.2470 - loss: 2.5693 - val_accuracy: 0.2632 - val_loss: 1.9461\n",
      "Epoch 3/20\n",
      "\u001b[1m1407/1407\u001b[0m \u001b[32m━━━━━━━━━━━━━━━━━━━━\u001b[0m\u001b[37m\u001b[0m \u001b[1m4s\u001b[0m 3ms/step - accuracy: 0.2636 - loss: 1.9517 - val_accuracy: 0.2706 - val_loss: 1.9196\n",
      "Epoch 4/20\n",
      "\u001b[1m1407/1407\u001b[0m \u001b[32m━━━━━━━━━━━━━━━━━━━━\u001b[0m\u001b[37m\u001b[0m \u001b[1m4s\u001b[0m 3ms/step - accuracy: 0.2644 - loss: 2.0142 - val_accuracy: 0.2660 - val_loss: 1.9179\n",
      "Epoch 5/20\n",
      "\u001b[1m1407/1407\u001b[0m \u001b[32m━━━━━━━━━━━━━━━━━━━━\u001b[0m\u001b[37m\u001b[0m \u001b[1m4s\u001b[0m 3ms/step - accuracy: 0.2722 - loss: 2.6778 - val_accuracy: 0.2722 - val_loss: 1.9013\n",
      "Epoch 6/20\n",
      "\u001b[1m1407/1407\u001b[0m \u001b[32m━━━━━━━━━━━━━━━━━━━━\u001b[0m\u001b[37m\u001b[0m \u001b[1m4s\u001b[0m 3ms/step - accuracy: 0.2728 - loss: 9.9797 - val_accuracy: 0.2544 - val_loss: 1.9696\n",
      "Epoch 7/20\n",
      "\u001b[1m1407/1407\u001b[0m \u001b[32m━━━━━━━━━━━━━━━━━━━━\u001b[0m\u001b[37m\u001b[0m \u001b[1m4s\u001b[0m 3ms/step - accuracy: 0.2702 - loss: 2.1645 - val_accuracy: 0.2636 - val_loss: 1.9395\n",
      "Epoch 8/20\n",
      "\u001b[1m1407/1407\u001b[0m \u001b[32m━━━━━━━━━━━━━━━━━━━━\u001b[0m\u001b[37m\u001b[0m \u001b[1m4s\u001b[0m 3ms/step - accuracy: 0.2812 - loss: 1.9106 - val_accuracy: 0.2480 - val_loss: 1.9428\n",
      "Epoch 9/20\n",
      "\u001b[1m1407/1407\u001b[0m \u001b[32m━━━━━━━━━━━━━━━━━━━━\u001b[0m\u001b[37m\u001b[0m \u001b[1m4s\u001b[0m 3ms/step - accuracy: 0.2724 - loss: 1.9125 - val_accuracy: 0.2590 - val_loss: 1.9507\n",
      "Epoch 10/20\n",
      "\u001b[1m1407/1407\u001b[0m \u001b[32m━━━━━━━━━━━━━━━━━━━━\u001b[0m\u001b[37m\u001b[0m \u001b[1m4s\u001b[0m 3ms/step - accuracy: 0.2855 - loss: 1.9076 - val_accuracy: 0.2560 - val_loss: 1.9685\n",
      "Epoch 11/20\n",
      "\u001b[1m1407/1407\u001b[0m \u001b[32m━━━━━━━━━━━━━━━━━━━━\u001b[0m\u001b[37m\u001b[0m \u001b[1m4s\u001b[0m 3ms/step - accuracy: 0.2786 - loss: 9.0709 - val_accuracy: 0.2778 - val_loss: 1.9236\n",
      "Epoch 12/20\n",
      "\u001b[1m1407/1407\u001b[0m \u001b[32m━━━━━━━━━━━━━━━━━━━━\u001b[0m\u001b[37m\u001b[0m \u001b[1m4s\u001b[0m 3ms/step - accuracy: 0.2889 - loss: 1.9004 - val_accuracy: 0.2798 - val_loss: 1.9202\n",
      "Epoch 13/20\n",
      "\u001b[1m1407/1407\u001b[0m \u001b[32m━━━━━━━━━━━━━━━━━━━━\u001b[0m\u001b[37m\u001b[0m \u001b[1m4s\u001b[0m 3ms/step - accuracy: 0.2932 - loss: 2.9885 - val_accuracy: 0.2868 - val_loss: 1.8757\n",
      "Epoch 14/20\n",
      "\u001b[1m1407/1407\u001b[0m \u001b[32m━━━━━━━━━━━━━━━━━━━━\u001b[0m\u001b[37m\u001b[0m \u001b[1m4s\u001b[0m 3ms/step - accuracy: 0.2888 - loss: 1.8957 - val_accuracy: 0.2808 - val_loss: 1.9277\n",
      "Epoch 15/20\n",
      "\u001b[1m1407/1407\u001b[0m \u001b[32m━━━━━━━━━━━━━━━━━━━━\u001b[0m\u001b[37m\u001b[0m \u001b[1m4s\u001b[0m 3ms/step - accuracy: 0.2957 - loss: 3.5459 - val_accuracy: 0.2786 - val_loss: 1.9511\n",
      "Epoch 16/20\n",
      "\u001b[1m1407/1407\u001b[0m \u001b[32m━━━━━━━━━━━━━━━━━━━━\u001b[0m\u001b[37m\u001b[0m \u001b[1m5s\u001b[0m 3ms/step - accuracy: 0.2928 - loss: 1.9017 - val_accuracy: 0.2724 - val_loss: 1.8917\n",
      "Epoch 17/20\n",
      "\u001b[1m1407/1407\u001b[0m \u001b[32m━━━━━━━━━━━━━━━━━━━━\u001b[0m\u001b[37m\u001b[0m \u001b[1m4s\u001b[0m 3ms/step - accuracy: 0.2908 - loss: 1.8877 - val_accuracy: 0.2934 - val_loss: 1.9040\n",
      "Epoch 18/20\n",
      "\u001b[1m1407/1407\u001b[0m \u001b[32m━━━━━━━━━━━━━━━━━━━━\u001b[0m\u001b[37m\u001b[0m \u001b[1m4s\u001b[0m 3ms/step - accuracy: 0.2976 - loss: 1.9436 - val_accuracy: 0.2972 - val_loss: 1.8862\n",
      "Epoch 19/20\n",
      "\u001b[1m1407/1407\u001b[0m \u001b[32m━━━━━━━━━━━━━━━━━━━━\u001b[0m\u001b[37m\u001b[0m \u001b[1m4s\u001b[0m 3ms/step - accuracy: 0.2969 - loss: 1.8924 - val_accuracy: 0.2884 - val_loss: 1.8959\n",
      "Epoch 20/20\n",
      "\u001b[1m1407/1407\u001b[0m \u001b[32m━━━━━━━━━━━━━━━━━━━━\u001b[0m\u001b[37m\u001b[0m \u001b[1m5s\u001b[0m 3ms/step - accuracy: 0.3019 - loss: 1.8737 - val_accuracy: 0.2900 - val_loss: 1.9153\n"
     ]
    },
    {
     "data": {
      "text/plain": [
       "<keras.src.callbacks.history.History at 0x16563cbd0>"
      ]
     },
     "execution_count": 33,
     "metadata": {},
     "output_type": "execute_result"
    }
   ],
   "source": [
    "model.fit(X_train, y_train, epochs=20, validation_data=(X_valid, y_valid))"
   ]
  },
  {
   "cell_type": "code",
   "execution_count": 34,
   "metadata": {},
   "outputs": [
    {
     "name": "stdout",
     "output_type": "stream",
     "text": [
      "\u001b[1m157/157\u001b[0m \u001b[32m━━━━━━━━━━━━━━━━━━━━\u001b[0m\u001b[37m\u001b[0m \u001b[1m0s\u001b[0m 903us/step - accuracy: 0.2797 - loss: 1.9279\n"
     ]
    },
    {
     "data": {
      "text/plain": [
       "[1.915263295173645, 0.28999999165534973]"
      ]
     },
     "execution_count": 34,
     "metadata": {},
     "output_type": "execute_result"
    }
   ],
   "source": [
    "model.evaluate(X_valid, y_valid)"
   ]
  },
  {
   "cell_type": "code",
   "execution_count": 36,
   "metadata": {},
   "outputs": [],
   "source": [
    "# model.save(\"modelo_cifar10.h5\")\n",
    "model.save('modelo_cifar10.keras')"
   ]
  }
 ],
 "metadata": {
  "kernelspec": {
   "display_name": "base",
   "language": "python",
   "name": "python3"
  },
  "language_info": {
   "codemirror_mode": {
    "name": "ipython",
    "version": 3
   },
   "file_extension": ".py",
   "mimetype": "text/x-python",
   "name": "python",
   "nbconvert_exporter": "python",
   "pygments_lexer": "ipython3",
   "version": "3.11.8"
  }
 },
 "nbformat": 4,
 "nbformat_minor": 2
}
