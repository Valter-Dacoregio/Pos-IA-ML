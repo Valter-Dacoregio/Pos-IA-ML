{
 "cells": [
  {
   "cell_type": "code",
   "execution_count": 2,
   "id": "ccfc4de9-0fa2-44e2-8025-adf83fde7694",
   "metadata": {},
   "outputs": [],
   "source": [
    "from pyspark.sql import SparkSession"
   ]
  },
  {
   "cell_type": "code",
   "execution_count": 3,
   "id": "adca746b-4712-4ba9-a839-9d7d1ecc91ad",
   "metadata": {},
   "outputs": [
    {
     "name": "stderr",
     "output_type": "stream",
     "text": [
      "24/11/17 15:54:58 WARN Utils: Your hostname, Mac-mini-de-Valter.local resolves to a loopback address: 127.0.0.1; using 192.168.0.100 instead (on interface en0)\n",
      "24/11/17 15:54:58 WARN Utils: Set SPARK_LOCAL_IP if you need to bind to another address\n",
      "Setting default log level to \"WARN\".\n",
      "To adjust logging level use sc.setLogLevel(newLevel). For SparkR, use setLogLevel(newLevel).\n",
      "24/11/17 15:54:58 WARN NativeCodeLoader: Unable to load native-hadoop library for your platform... using builtin-java classes where applicable\n",
      "24/11/17 15:54:59 WARN Utils: Service 'SparkUI' could not bind on port 4040. Attempting port 4041.\n"
     ]
    }
   ],
   "source": [
    "spark = SparkSession.builder.appName(\"Exemplo de DataFrame\").getOrCreate()"
   ]
  },
  {
   "cell_type": "code",
   "execution_count": null,
   "id": "727308d4-1d41-43dd-98dd-1d35af60ef7c",
   "metadata": {},
   "outputs": [],
   "source": [
    "# A partir de um coleção"
   ]
  },
  {
   "cell_type": "code",
   "execution_count": 6,
   "id": "fc96b6e1-3157-4be6-b65b-52b5c5c6a0a6",
   "metadata": {},
   "outputs": [],
   "source": [
    "data = [\n",
    "    (\"Valter\", 28),\n",
    "    (\"Magnus\", 33),\n",
    "    (\"Garry\", 61)\n",
    "]\n",
    "\n",
    "columns = [\"Nome\", \"Idade\"]"
   ]
  },
  {
   "cell_type": "code",
   "execution_count": 7,
   "id": "ac1c8e7e-c996-4df4-bb19-b99f7f2c168e",
   "metadata": {},
   "outputs": [],
   "source": [
    "df = spark.createDataFrame(data, columns)"
   ]
  },
  {
   "cell_type": "code",
   "execution_count": 9,
   "id": "3ecc524b-08f5-4b73-88dd-faa7d7a6a806",
   "metadata": {},
   "outputs": [
    {
     "name": "stdout",
     "output_type": "stream",
     "text": [
      "+------+-----+\n",
      "|  Nome|Idade|\n",
      "+------+-----+\n",
      "|Valter|   28|\n",
      "|Magnus|   33|\n",
      "| Garry|   61|\n",
      "+------+-----+\n",
      "\n"
     ]
    }
   ],
   "source": [
    "df.show()"
   ]
  },
  {
   "cell_type": "code",
   "execution_count": 10,
   "id": "6d2c82ab-aee7-4075-8615-b15d15ba8671",
   "metadata": {},
   "outputs": [],
   "source": [
    "# A partir de um arquivo .CSV"
   ]
  },
  {
   "cell_type": "code",
   "execution_count": 11,
   "id": "92a28fb9-43bb-4b6b-a862-abafdddb2d08",
   "metadata": {},
   "outputs": [],
   "source": [
    "df = spark.read.csv(path=\"dados.csv\", header=True, inferSchema=True)"
   ]
  },
  {
   "cell_type": "code",
   "execution_count": 12,
   "id": "6ec7dc4b-5124-4308-b11c-4847aa44cb06",
   "metadata": {},
   "outputs": [
    {
     "name": "stdout",
     "output_type": "stream",
     "text": [
      "+------------+-----+\n",
      "|        nome|idade|\n",
      "+------------+-----+\n",
      "|      Valter|   28|\n",
      "|      Magnus|   33|\n",
      "|       Garry|   61|\n",
      "|Outra Pessoa|   99|\n",
      "+------------+-----+\n",
      "\n"
     ]
    }
   ],
   "source": [
    "df.show()"
   ]
  },
  {
   "cell_type": "code",
   "execution_count": 15,
   "id": "244e398f-19ce-44d1-9236-972232081acd",
   "metadata": {},
   "outputs": [],
   "source": [
    "# Consultas com Spark SQL\n",
    "df.createOrReplaceTempView(\"pessoas\")"
   ]
  },
  {
   "cell_type": "code",
   "execution_count": 16,
   "id": "24f89101-4642-4d28-b24c-c3e53f3c9970",
   "metadata": {},
   "outputs": [],
   "source": [
    "result = spark.sql(\"SELECT * FROM pessoas WHERE idade > 30\")"
   ]
  },
  {
   "cell_type": "code",
   "execution_count": 17,
   "id": "90009788-9a65-48ab-9033-d45f8cf8dbdf",
   "metadata": {},
   "outputs": [
    {
     "name": "stdout",
     "output_type": "stream",
     "text": [
      "+------------+-----+\n",
      "|        nome|idade|\n",
      "+------------+-----+\n",
      "|      Magnus|   33|\n",
      "|       Garry|   61|\n",
      "|Outra Pessoa|   99|\n",
      "+------------+-----+\n",
      "\n"
     ]
    }
   ],
   "source": [
    "result.show()"
   ]
  }
 ],
 "metadata": {
  "kernelspec": {
   "display_name": "Python 3 (ipykernel)",
   "language": "python",
   "name": "python3"
  },
  "language_info": {
   "codemirror_mode": {
    "name": "ipython",
    "version": 3
   },
   "file_extension": ".py",
   "mimetype": "text/x-python",
   "name": "python",
   "nbconvert_exporter": "python",
   "pygments_lexer": "ipython3",
   "version": "3.12.2"
  }
 },
 "nbformat": 4,
 "nbformat_minor": 5
}
