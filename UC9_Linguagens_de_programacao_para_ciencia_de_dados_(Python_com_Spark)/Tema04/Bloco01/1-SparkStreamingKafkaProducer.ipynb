{
 "cells": [
  {
   "cell_type": "code",
   "execution_count": 5,
   "metadata": {},
   "outputs": [
    {
     "name": "stdout",
     "output_type": "stream",
     "text": [
      "Python version\n",
      "3.12.2 | packaged by conda-forge | (main, Feb 16 2024, 20:54:21) [Clang 16.0.6 ]\n"
     ]
    }
   ],
   "source": [
    "import json\n",
    "import random\n",
    "import time\n",
    "#**************************************************\n",
    "# Para usar o Kafka\n",
    "#**************************************************\n",
    "import sys\n",
    "if sys.version_info >= (3, 12, 0):\n",
    "    import six\n",
    "    sys.modules['kafka.vendor.six.moves'] = six.moves\n",
    "from kafka import KafkaProducer\n",
    "#**************************************************\n",
    "\n",
    "print(\"Python version\")\n",
    "print(sys.version)"
   ]
  },
  {
   "cell_type": "code",
   "execution_count": 6,
   "metadata": {},
   "outputs": [],
   "source": [
    "# Configurar o produtor Kafka\n",
    "producer = KafkaProducer(bootstrap_servers='localhost:9092', \n",
    "                         value_serializer=lambda v: json.dumps(v).encode('utf-8'))"
   ]
  },
  {
   "cell_type": "code",
   "execution_count": 7,
   "metadata": {},
   "outputs": [],
   "source": [
    "# Simulação de dados de sensores\n",
    "def gerar_dados_sensor():\n",
    "    sensor_id = random.randint(1, 100)\n",
    "    temperatura = round(random.uniform(20, 30), 2)\n",
    "    umidade = round(random.uniform(20, 100), 2)\n",
    "    timestamp = int(time.time())\n",
    "    return {\n",
    "        \"sensor_id\": sensor_id, \n",
    "        \"temperatura\": temperatura, \n",
    "        \"umidade\": umidade, \n",
    "        \"timestamp\": timestamp\n",
    "    }"
   ]
  },
  {
   "cell_type": "code",
   "execution_count": 9,
   "metadata": {},
   "outputs": [
    {
     "name": "stdout",
     "output_type": "stream",
     "text": [
      "Dado enviado: {'sensor_id': 28, 'temperatura': 25.71, 'umidade': 27.07, 'timestamp': 1733087579}\n",
      "Dado enviado: {'sensor_id': 99, 'temperatura': 28.38, 'umidade': 51.39, 'timestamp': 1733087589}\n",
      "Dado enviado: {'sensor_id': 58, 'temperatura': 22.46, 'umidade': 51.67, 'timestamp': 1733087599}\n",
      "Dado enviado: {'sensor_id': 48, 'temperatura': 23.59, 'umidade': 83.54, 'timestamp': 1733087609}\n",
      "Dado enviado: {'sensor_id': 67, 'temperatura': 28.16, 'umidade': 34.44, 'timestamp': 1733087619}\n",
      "Dado enviado: {'sensor_id': 74, 'temperatura': 22.4, 'umidade': 66.78, 'timestamp': 1733087629}\n",
      "Dado enviado: {'sensor_id': 59, 'temperatura': 24.95, 'umidade': 64.81, 'timestamp': 1733087639}\n",
      "Dado enviado: {'sensor_id': 35, 'temperatura': 25.7, 'umidade': 54.92, 'timestamp': 1733087649}\n",
      "Dado enviado: {'sensor_id': 91, 'temperatura': 25.86, 'umidade': 65.69, 'timestamp': 1733087659}\n"
     ]
    },
    {
     "ename": "KeyboardInterrupt",
     "evalue": "",
     "output_type": "error",
     "traceback": [
      "\u001b[0;31m---------------------------------------------------------------------------\u001b[0m",
      "\u001b[0;31mKeyboardInterrupt\u001b[0m                         Traceback (most recent call last)",
      "Cell \u001b[0;32mIn[9], line 6\u001b[0m\n\u001b[1;32m      4\u001b[0m producer\u001b[38;5;241m.\u001b[39msend(\u001b[38;5;124m'\u001b[39m\u001b[38;5;124msensor-data\u001b[39m\u001b[38;5;124m'\u001b[39m, value\u001b[38;5;241m=\u001b[39mdados_sensor)\n\u001b[1;32m      5\u001b[0m \u001b[38;5;28mprint\u001b[39m(\u001b[38;5;124mf\u001b[39m\u001b[38;5;124m\"\u001b[39m\u001b[38;5;124mDado enviado: \u001b[39m\u001b[38;5;132;01m{\u001b[39;00mdados_sensor\u001b[38;5;132;01m}\u001b[39;00m\u001b[38;5;124m\"\u001b[39m)\n\u001b[0;32m----> 6\u001b[0m time\u001b[38;5;241m.\u001b[39msleep(\u001b[38;5;241m10\u001b[39m)\n",
      "\u001b[0;31mKeyboardInterrupt\u001b[0m: "
     ]
    }
   ],
   "source": [
    "# Enviar dados continuamente\n",
    "while True:\n",
    "    dados_sensor = gerar_dados_sensor()\n",
    "    producer.send('sensor-data', value=dados_sensor)\n",
    "    print(f\"Dado enviado: {dados_sensor}\")\n",
    "    time.sleep(10) # Simular um intervalo de 1 segundo entre as leituras"
   ]
  }
 ],
 "metadata": {
  "kernelspec": {
   "display_name": "base",
   "language": "python",
   "name": "python3"
  },
  "language_info": {
   "codemirror_mode": {
    "name": "ipython",
    "version": 3
   },
   "file_extension": ".py",
   "mimetype": "text/x-python",
   "name": "python",
   "nbconvert_exporter": "python",
   "pygments_lexer": "ipython3",
   "version": "3.12.2"
  }
 },
 "nbformat": 4,
 "nbformat_minor": 2
}
