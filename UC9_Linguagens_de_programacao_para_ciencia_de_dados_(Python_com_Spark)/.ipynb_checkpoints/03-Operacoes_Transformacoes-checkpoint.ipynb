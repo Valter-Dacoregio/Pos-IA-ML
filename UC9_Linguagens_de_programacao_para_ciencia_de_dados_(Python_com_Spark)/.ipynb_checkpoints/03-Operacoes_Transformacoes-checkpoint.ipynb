{
 "cells": [
  {
   "cell_type": "code",
   "execution_count": 2,
   "id": "2d4ed4d6-7bf7-4a12-8a5e-aaf56cbaa0dc",
   "metadata": {},
   "outputs": [],
   "source": [
    "# No Spark, as operações em RDDs e DataFrames são divididas em dois tipos: transformações e ações."
   ]
  },
  {
   "cell_type": "code",
   "execution_count": 3,
   "id": "8414dd8c-cde7-4d00-acfd-6cfc19861a19",
   "metadata": {},
   "outputs": [],
   "source": [
    "# Transformações"
   ]
  },
  {
   "cell_type": "code",
   "execution_count": 4,
   "id": "6b0bd2c9-2d0f-4514-890c-de302bc2ba4d",
   "metadata": {},
   "outputs": [],
   "source": [
    "# Transformações criam um novo RDD a partir de um RDD existente. Elas\n",
    "# são “lazy”, o que significa que não são executadas até que uma ação seja\n",
    "# chamada."
   ]
  },
  {
   "cell_type": "code",
   "execution_count": 5,
   "id": "10dcd35a-71eb-4e74-a52b-a2a21954e5f5",
   "metadata": {},
   "outputs": [
    {
     "name": "stderr",
     "output_type": "stream",
     "text": [
      "24/11/17 16:13:37 WARN Utils: Your hostname, Mac-mini-de-Valter.local resolves to a loopback address: 127.0.0.1; using 192.168.0.100 instead (on interface en0)\n",
      "24/11/17 16:13:37 WARN Utils: Set SPARK_LOCAL_IP if you need to bind to another address\n",
      "Setting default log level to \"WARN\".\n",
      "To adjust logging level use sc.setLogLevel(newLevel). For SparkR, use setLogLevel(newLevel).\n",
      "24/11/17 16:13:37 WARN NativeCodeLoader: Unable to load native-hadoop library for your platform... using builtin-java classes where applicable\n",
      "24/11/17 16:13:38 WARN Utils: Service 'SparkUI' could not bind on port 4040. Attempting port 4041.\n",
      "24/11/17 16:13:38 WARN Utils: Service 'SparkUI' could not bind on port 4041. Attempting port 4042.\n"
     ]
    }
   ],
   "source": [
    "from pyspark import SparkContext\n",
    "\n",
    "sc = SparkContext(\"local\", \"RDD Example\")\n",
    "\n",
    "data = [1,2,3,4,5]\n",
    "\n",
    "rdd = sc.parallelize(data)"
   ]
  },
  {
   "cell_type": "code",
   "execution_count": 8,
   "id": "b01a0a16-e06d-41d2-919e-3d2e34af1ebe",
   "metadata": {},
   "outputs": [],
   "source": [
    "# map\n",
    "# Aplica uma função a cada elemento do RDD.\n",
    "rdd2 = rdd.map(lambda x: x * 2)"
   ]
  },
  {
   "cell_type": "code",
   "execution_count": 10,
   "id": "b578f96e-994d-4519-b27c-fa91b6b2fe47",
   "metadata": {},
   "outputs": [],
   "source": [
    "# filter\n",
    "# – Filtra elementos do RDD com base em uma condição.\n",
    "rdd3 = rdd.filter(lambda x : x > 2)"
   ]
  },
  {
   "cell_type": "code",
   "execution_count": 12,
   "id": "bc48f0c8-89ea-40ef-89d7-a785e8e39fc1",
   "metadata": {},
   "outputs": [],
   "source": [
    "# flatmap\n",
    "# Similar ao “map()”, mas pode retornar múltiplos itens para cada entrada.\n",
    "rdd4 = rdd.flatMap(lambda x : [x, x * 2])"
   ]
  },
  {
   "cell_type": "code",
   "execution_count": 13,
   "id": "be2cd730-7a97-451e-bb3c-dde5ec2703c5",
   "metadata": {},
   "outputs": [],
   "source": [
    "# Ações"
   ]
  },
  {
   "cell_type": "code",
   "execution_count": 14,
   "id": "d2978055-7e45-45b0-8333-f3b576e382a8",
   "metadata": {},
   "outputs": [],
   "source": [
    "# Ações computam um resultado baseado em um RDD e retornam um valor para o Driver."
   ]
  },
  {
   "cell_type": "code",
   "execution_count": 16,
   "id": "877c77da-efe8-4dac-a8d4-d97ed8fc1701",
   "metadata": {},
   "outputs": [
    {
     "name": "stdout",
     "output_type": "stream",
     "text": [
      "[1, 2, 3, 4, 5]\n",
      "[2, 4, 6, 8, 10]\n",
      "[3, 4, 5]\n",
      "[1, 2, 2, 4, 3, 6, 4, 8, 5, 10]\n"
     ]
    }
   ],
   "source": [
    "# collect()\n",
    "data1= rdd.collect()\n",
    "data2 = rdd2.collect()\n",
    "data3 = rdd3.collect()\n",
    "data4 = rdd4.collect()\n",
    "\n",
    "print(data1)\n",
    "print(data2)\n",
    "print(data3)\n",
    "print(data4)"
   ]
  },
  {
   "cell_type": "code",
   "execution_count": 21,
   "id": "ae3333d5-0a19-46b2-b90b-623d0738895b",
   "metadata": {},
   "outputs": [
    {
     "name": "stdout",
     "output_type": "stream",
     "text": [
      "rdd..: 5\n",
      "rdd2.: 5\n",
      "rdd3.: 3\n",
      "rdd4.: 10\n"
     ]
    }
   ],
   "source": [
    "# count\n",
    "print(\"rdd..:\", rdd.count())\n",
    "print(\"rdd2.:\", rdd2.count())\n",
    "print(\"rdd3.:\", rdd3.count())\n",
    "print(\"rdd4.:\", rdd4.count())"
   ]
  },
  {
   "cell_type": "code",
   "execution_count": 23,
   "id": "b07860a1-141a-494d-8e80-7fac06e69e13",
   "metadata": {},
   "outputs": [
    {
     "name": "stdout",
     "output_type": "stream",
     "text": [
      "rdd..: 1\n",
      "rdd2.: 2\n",
      "rdd3.: 3\n",
      "rdd4.: 1\n"
     ]
    }
   ],
   "source": [
    "# first\n",
    "print(\"rdd..:\", rdd.first())\n",
    "print(\"rdd2.:\", rdd2.first())\n",
    "print(\"rdd3.:\", rdd3.first())\n",
    "print(\"rdd4.:\", rdd4.first())"
   ]
  }
 ],
 "metadata": {
  "kernelspec": {
   "display_name": "Python 3 (ipykernel)",
   "language": "python",
   "name": "python3"
  },
  "language_info": {
   "codemirror_mode": {
    "name": "ipython",
    "version": 3
   },
   "file_extension": ".py",
   "mimetype": "text/x-python",
   "name": "python",
   "nbconvert_exporter": "python",
   "pygments_lexer": "ipython3",
   "version": "3.12.2"
  }
 },
 "nbformat": 4,
 "nbformat_minor": 5
}
