{
 "cells": [
  {
   "cell_type": "code",
   "execution_count": 4,
   "id": "ba5b4446-a97e-4515-936c-a8f184016b3d",
   "metadata": {},
   "outputs": [],
   "source": [
    "from pyspark import SparkContext"
   ]
  },
  {
   "cell_type": "code",
   "execution_count": 5,
   "id": "0a02eef2-d79b-4cc0-a898-abc00148bee5",
   "metadata": {},
   "outputs": [
    {
     "name": "stderr",
     "output_type": "stream",
     "text": [
      "24/11/17 15:39:10 WARN Utils: Your hostname, Mac-mini-de-Valter.local resolves to a loopback address: 127.0.0.1; using 192.168.0.100 instead (on interface en0)\n",
      "24/11/17 15:39:10 WARN Utils: Set SPARK_LOCAL_IP if you need to bind to another address\n",
      "Setting default log level to \"WARN\".\n",
      "To adjust logging level use sc.setLogLevel(newLevel). For SparkR, use setLogLevel(newLevel).\n",
      "24/11/17 15:39:10 WARN NativeCodeLoader: Unable to load native-hadoop library for your platform... using builtin-java classes where applicable\n"
     ]
    }
   ],
   "source": [
    "sc = SparkContext(\"local\", \"RDD Example\")"
   ]
  },
  {
   "cell_type": "code",
   "execution_count": 6,
   "id": "cccedaa4-f1fa-42b5-bda6-0eabd578e12b",
   "metadata": {},
   "outputs": [],
   "source": [
    "# Criação de um RDD a partir de uma coleção\n",
    "data = [1,2,3,4,5]\n",
    "rdd = sc.parallelize(data)"
   ]
  },
  {
   "cell_type": "code",
   "execution_count": 7,
   "id": "cc634c36-823f-4f15-990d-513579a79861",
   "metadata": {},
   "outputs": [],
   "source": [
    "# Aplicação de uma transformação\n",
    "squared_rdd = rdd.map(lambda x : x**2)"
   ]
  },
  {
   "cell_type": "code",
   "execution_count": 10,
   "id": "9e5e1fda-6662-4c7b-ab8c-b78418ce2f43",
   "metadata": {},
   "outputs": [],
   "source": [
    "# Ação para coletar os resultados\n",
    "result = squared_rdd.collect()"
   ]
  },
  {
   "cell_type": "code",
   "execution_count": null,
   "id": "790c03e0-b1c5-4a50-b2ae-f61d1188d464",
   "metadata": {},
   "outputs": [],
   "source": [
    "print(result)"
   ]
  }
 ],
 "metadata": {
  "kernelspec": {
   "display_name": "Python 3 (ipykernel)",
   "language": "python",
   "name": "python3"
  },
  "language_info": {
   "codemirror_mode": {
    "name": "ipython",
    "version": 3
   },
   "file_extension": ".py",
   "mimetype": "text/x-python",
   "name": "python",
   "nbconvert_exporter": "python",
   "pygments_lexer": "ipython3",
   "version": "3.12.2"
  }
 },
 "nbformat": 4,
 "nbformat_minor": 5
}
