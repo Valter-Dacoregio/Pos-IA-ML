{
 "cells": [
  {
   "cell_type": "code",
   "execution_count": 2,
   "metadata": {},
   "outputs": [
    {
     "name": "stderr",
     "output_type": "stream",
     "text": [
      "24/11/24 16:21:22 WARN Utils: Your hostname, Mac-mini-de-Valter.local resolves to a loopback address: 127.0.0.1; using 192.168.0.100 instead (on interface en0)\n",
      "24/11/24 16:21:22 WARN Utils: Set SPARK_LOCAL_IP if you need to bind to another address\n",
      "Setting default log level to \"WARN\".\n",
      "To adjust logging level use sc.setLogLevel(newLevel). For SparkR, use setLogLevel(newLevel).\n",
      "24/11/24 16:21:23 WARN NativeCodeLoader: Unable to load native-hadoop library for your platform... using builtin-java classes where applicable\n"
     ]
    }
   ],
   "source": [
    "from pyspark.sql import SparkSession\n",
    "from pyspark.sql.functions import *\n",
    "from pyspark.sql.types import *\n",
    "import json\n",
    "import csv\n",
    "import random\n",
    "from datetime import datetime, timedelta\n",
    "\n",
    "# Inicializar a sessão do Spark\n",
    "spark = SparkSession.builder \\\n",
    "    .appName(\"EmpresaYAnaliseDeDados\") \\\n",
    "    .getOrCreate()"
   ]
  },
  {
   "cell_type": "code",
   "execution_count": 28,
   "metadata": {},
   "outputs": [],
   "source": [
    "# Gerar dados de vendas\n",
    "def gerar_dados_vendas():\n",
    "    produtos = [\"Notebook\", \"Smartphone\", \"Tablet\", \"VideoGame\", \"Fone de Ouvido\", \"Smartwatch\"]\n",
    "    with open(\"dados_vendas.csv\", \"w\", newline='') as arquivo:\n",
    "        escritor = csv.writer(arquivo)\n",
    "        escritor.writerow([\"id_venda\", \"id_produto\", \"produto\", \"quantidade\", \"preco\", \"data\"])\n",
    "        for i in range(1000):\n",
    "            id_produto = random.randint(1, 6)\n",
    "            escritor.writerow([\n",
    "                i,\n",
    "                id_produto,\n",
    "                produtos[id_produto - 1],\n",
    "                random.randint(1, 5),\n",
    "                \"{:.2f}\".format(random.uniform(100, 1000)),\n",
    "                (datetime.now() - timedelta(days=random.randint(1, 365))).strftime(\"%Y-%m-%d\")\n",
    "            ])\n",
    "\n",
    "# Gerar dados de comportamento do cliente\n",
    "def gerar_dados_comportamento_cliente():\n",
    "    acoes = [\"visualizacao\", \"adicionar_ao_carrinho\", \"compra\", \"avaliacao\"]\n",
    "    dados = []\n",
    "    for i in range(1000):\n",
    "        dados.append({\n",
    "            \"id_cliente\": random.randint(1, 100),\n",
    "            \"id_produto\": random.randint(1, 6),\n",
    "            \"acao\": random.choice(acoes),\n",
    "            \"data\": (datetime.now() - timedelta(days=random.randint(1, 365))).strftime(\"%Y-%m-%d\")\n",
    "        })\n",
    "    with open(\"dados_comportamento_cliente.json\", \"w\") as arquivo:\n",
    "        json.dump(dados, arquivo)\n",
    "\n",
    "# Gerar dados de estoque\n",
    "def gerar_dados_estoque():\n",
    "    produtos = [\"Notebook\", \"Smartphone\", \"Tablet\", \"Smartwatch\", \"Fone de Ouvido\", \"Smartwatch\"]\n",
    "    with open(\"dados_estoque.csv\", \"w\", newline='') as arquivo:\n",
    "        escritor = csv.writer(arquivo)\n",
    "        escritor.writerow([\"id_produto\", \"produto\", \"quantidade\"])\n",
    "        for i in range(6):\n",
    "            escritor.writerow([\n",
    "                i,\n",
    "                produtos[i-1],\n",
    "                random.randint(0, 1000),\n",
    "                datetime.now().strftime(\"%Y-%m-%d %H:%M:%S\")\n",
    "            ])"
   ]
  },
  {
   "cell_type": "code",
   "execution_count": 29,
   "metadata": {},
   "outputs": [],
   "source": [
    "# Gerar todos os dados\n",
    "gerar_dados_vendas()\n",
    "gerar_dados_comportamento_cliente()\n",
    "gerar_dados_estoque()"
   ]
  },
  {
   "cell_type": "code",
   "execution_count": 35,
   "metadata": {},
   "outputs": [
    {
     "name": "stdout",
     "output_type": "stream",
     "text": [
      "Esquema dos dados de vendas:\n",
      "root\n",
      " |-- id_venda: integer (nullable = true)\n",
      " |-- id_produto: integer (nullable = true)\n",
      " |-- produto: string (nullable = true)\n",
      " |-- quantidade: integer (nullable = true)\n",
      " |-- preco: double (nullable = true)\n",
      " |-- data: date (nullable = true)\n",
      "\n",
      "None\n",
      "Esquema dos dados de comportamento do cliente:\n",
      "root\n",
      " |-- acao: string (nullable = true)\n",
      " |-- data: string (nullable = true)\n",
      " |-- id_cliente: long (nullable = true)\n",
      " |-- id_produto: long (nullable = true)\n",
      "\n",
      "None\n",
      "Esquema dos dados de estoque:\n",
      "root\n",
      " |-- id_produto: integer (nullable = true)\n",
      " |-- produto: string (nullable = true)\n",
      " |-- quantidade: integer (nullable = true)\n",
      "\n",
      "None\n"
     ]
    }
   ],
   "source": [
    "# Carregar dados de vendas\n",
    "df_vendas = spark.read.csv(\"dados_vendas.csv\", header=True, inferSchema=True)\n",
    "print(\"Esquema dos dados de vendas:\")\n",
    "print(df_vendas.printSchema())\n",
    "\n",
    "# Carregar dados de comportamento do cliente\n",
    "df_comportamento_cliente = spark.read.json(\"dados_comportamento_cliente.json\")\n",
    "print(\"Esquema dos dados de comportamento do cliente:\")\n",
    "print(df_comportamento_cliente.printSchema())\n",
    "\n",
    "# Carregar dados de estoque\n",
    "df_estoque = spark.read.csv(\"dados_estoque.csv\", header=True, inferSchema=True)\n",
    "print(\"Esquema dos dados de estoque:\")\n",
    "print(df_estoque.printSchema())"
   ]
  },
  {
   "cell_type": "code",
   "execution_count": 32,
   "metadata": {},
   "outputs": [
    {
     "name": "stdout",
     "output_type": "stream",
     "text": [
      "Resumo de vendas 1:\n",
      "+----------+--------------+------------------------+-----------------+\n",
      "|id_produto|       produto|quantidade_total_vendida|faturamento_total|\n",
      "+----------+--------------+------------------------+-----------------+\n",
      "|         2|    Smartphone|                     515|       292,671.50|\n",
      "|         4|     VideoGame|                     513|       288,045.00|\n",
      "|         6|    Smartwatch|                     517|       272,128.73|\n",
      "|         1|      Notebook|                     480|       268,600.12|\n",
      "|         3|        Tablet|                     504|       258,027.52|\n",
      "|         5|Fone de Ouvido|                     436|       234,501.29|\n",
      "+----------+--------------+------------------------+-----------------+\n",
      "\n",
      "Resumo de vendas 2:\n",
      "+--------------+------------------------+-----------------+------------+------------+\n",
      "|       produto|quantidade_total_vendida|      preco_medio|preco_minimo|preco_maximo|\n",
      "+--------------+------------------------+-----------------+------------+------------+\n",
      "|    Smartwatch|                     517|531.9928323699418|      100.99|      997.63|\n",
      "|      Notebook|                     480|567.5092352941177|       104.6|      989.88|\n",
      "|        Tablet|                     504| 518.915393939394|       102.3|       996.9|\n",
      "|     VideoGame|                     513|553.6209580838325|      120.67|       990.6|\n",
      "|    Smartphone|                     515|           574.74|      101.36|      999.62|\n",
      "|Fone de Ouvido|                     436|544.3626351351354|      114.69|      991.19|\n",
      "+--------------+------------------------+-----------------+------------+------------+\n",
      "\n"
     ]
    }
   ],
   "source": [
    "# Processar dados de vendas\n",
    "resumo_vendas1 = df_vendas \\\n",
    "    .groupBy(\"id_produto\", \"produto\") \\\n",
    "    .agg(\n",
    "        sum(\"quantidade\").alias(\"quantidade_total_vendida\"),\n",
    "        sum(col(\"quantidade\") * col(\"preco\")).alias(\"faturamento_total\"),\n",
    "    ) \\\n",
    "     .withColumn(\"faturamento_total\", format_number(\"faturamento_total\", 2)) \\\n",
    "    .orderBy(\"faturamento_total\", ascending=False)\n",
    "    # .orderBy(\"id_produto\", ascending=True)\n",
    "\n",
    "print(\"Resumo de vendas 1:\")\n",
    "resumo_vendas1.show()\n",
    "\n",
    "resumo_vendas2 = df_vendas \\\n",
    "    .groupBy(\"produto\") \\\n",
    "    .agg(\n",
    "        sum(\"quantidade\").alias(\"quantidade_total_vendida\"),\n",
    "        avg(\"preco\").alias(\"preco_medio\"),\n",
    "        min(\"preco\").alias(\"preco_minimo\"),\n",
    "        max(\"preco\").alias(\"preco_maximo\")\n",
    "    )\n",
    "\n",
    "print(\"Resumo de vendas 2:\")\n",
    "resumo_vendas2.show()"
   ]
  },
  {
   "cell_type": "code",
   "execution_count": 41,
   "metadata": {},
   "outputs": [
    {
     "name": "stdout",
     "output_type": "stream",
     "text": [
      "Resumo de comportamento do cliente:\n",
      "+----------+-------------+-------------------+-------+----------+\n",
      "|id_produto|visualizacoes|adicoes_ao_carrinho|compras|avaliacoes|\n",
      "+----------+-------------+-------------------+-------+----------+\n",
      "|         1|           44|                 47|     39|        43|\n",
      "|         2|           41|                 30|     40|        35|\n",
      "|         3|           51|                 44|     42|        45|\n",
      "|         4|           48|                 34|     41|        38|\n",
      "|         5|           52|                 42|     35|        35|\n",
      "|         6|           53|                 44|     33|        44|\n",
      "+----------+-------------+-------------------+-------+----------+\n",
      "\n"
     ]
    }
   ],
   "source": [
    "# Processar dados de comportamento do cliente\n",
    "resumo_comportamento_cliente = df_comportamento_cliente \\\n",
    "    .groupBy(\"id_produto\", \"acao\") \\\n",
    "    .count() \\\n",
    "    .groupBy(\"id_produto\") \\\n",
    "    .agg(\n",
    "        sum(when(col(\"acao\") == \"visualizacao\", col(\"count\")).otherwise(0)).alias(\"visualizacoes\"),\n",
    "        sum(when(col(\"acao\") == \"adicionar_ao_carrinho\", col(\"count\")).otherwise(0)).alias(\"adicoes_ao_carrinho\"),\n",
    "        sum(when(col(\"acao\") == \"compra\", col(\"count\")).otherwise(0)).alias(\"compras\"),\n",
    "        sum(when(col(\"acao\") == \"avaliacao\", col(\"count\")).otherwise(0)).alias(\"avaliacoes\"),\n",
    "    ) \\\n",
    "    .orderBy(\"id_produto\", ascending=True)\n",
    "\n",
    "print(\"Resumo de comportamento do cliente:\")\n",
    "resumo_comportamento_cliente.show()"
   ]
  },
  {
   "cell_type": "code",
   "execution_count": 43,
   "metadata": {},
   "outputs": [
    {
     "name": "stdout",
     "output_type": "stream",
     "text": [
      "Produtos com baixo estoque:\n",
      "+----------+----------+----------+\n",
      "|id_produto|   produto|quantidade|\n",
      "+----------+----------+----------+\n",
      "|         2|Smartphone|        50|\n",
      "+----------+----------+----------+\n",
      "\n"
     ]
    }
   ],
   "source": [
    "# Processar dados de estoque\n",
    "produtos_baixo_estoque = df_estoque \\\n",
    "    .filter(col(\"quantidade\") < 100) \\\n",
    "    .orderBy(\"quantidade\", ascending=True)\n",
    "\n",
    "print(\"Produtos com baixo estoque:\")\n",
    "produtos_baixo_estoque.show()"
   ]
  },
  {
   "cell_type": "code",
   "execution_count": 46,
   "metadata": {},
   "outputs": [
    {
     "name": "stdout",
     "output_type": "stream",
     "text": [
      "Vendas e estoque:\n",
      "+----------+--------------+------------------------+-----------------+----------+\n",
      "|id_produto|       produto|quantidade_total_vendida|faturamento_total|quantidade|\n",
      "+----------+--------------+------------------------+-----------------+----------+\n",
      "|         1|      Notebook|                     480|       268,600.12|       709|\n",
      "|         2|    Smartphone|                     515|       292,671.50|        50|\n",
      "|         3|        Tablet|                     504|       258,027.52|       476|\n",
      "|         4|     VideoGame|                     513|       288,045.00|       127|\n",
      "|         5|Fone de Ouvido|                     436|       234,501.29|       539|\n",
      "+----------+--------------+------------------------+-----------------+----------+\n",
      "\n"
     ]
    }
   ],
   "source": [
    "# Juntar dados de vendas e estoque\n",
    "vendas_estoque = resumo_vendas1 \\\n",
    "    .join(df_estoque, resumo_vendas1.id_produto == df_estoque.id_produto) \\\n",
    "    .select(\n",
    "        resumo_vendas1.id_produto,\n",
    "        resumo_vendas1.produto,\n",
    "        resumo_vendas1.quantidade_total_vendida,\n",
    "        resumo_vendas1.faturamento_total,\n",
    "        df_estoque.quantidade\n",
    "    ) \\\n",
    "    .orderBy(\"id_produto\", ascending=True)\n",
    "\n",
    "print(\"Vendas e estoque:\")\n",
    "vendas_estoque.show()"
   ]
  },
  {
   "cell_type": "code",
   "execution_count": 48,
   "metadata": {},
   "outputs": [
    {
     "name": "stdout",
     "output_type": "stream",
     "text": [
      "Produtos mais vendidos com baixo estoque:\n",
      "+----------+----------+------------------------+-----------------+----------+\n",
      "|id_produto|   produto|quantidade_total_vendida|faturamento_total|quantidade|\n",
      "+----------+----------+------------------------+-----------------+----------+\n",
      "|         2|Smartphone|                     515|       292,671.50|        50|\n",
      "+----------+----------+------------------------+-----------------+----------+\n",
      "\n"
     ]
    }
   ],
   "source": [
    "# Calcular produtos mais vendidos com baixo estoque\n",
    "produtos_mais_vendidos_baixo_estoque = vendas_estoque \\\n",
    "    .filter(col(\"quantidade_total_vendida\") > 100) \\\n",
    "    .filter(col(\"quantidade\") < 100) \\\n",
    "    .orderBy(col(\"quantidade_total_vendida\").desc()) \\\n",
    "    .limit(5)\n",
    "\n",
    "print(\"Produtos mais vendidos com baixo estoque:\")\n",
    "produtos_mais_vendidos_baixo_estoque.show()"
   ]
  },
  {
   "cell_type": "code",
   "execution_count": 50,
   "metadata": {},
   "outputs": [
    {
     "name": "stdout",
     "output_type": "stream",
     "text": [
      "Produtos mais vendidos:\n",
      "+----------+----------+------------------------+-----------------+\n",
      "|id_produto|   produto|quantidade_total_vendida|faturamento_total|\n",
      "+----------+----------+------------------------+-----------------+\n",
      "|         6|Smartwatch|                     517|       272,128.73|\n",
      "|         2|Smartphone|                     515|       292,671.50|\n",
      "|         4| VideoGame|                     513|       288,045.00|\n",
      "|         3|    Tablet|                     504|       258,027.52|\n",
      "|         1|  Notebook|                     480|       268,600.12|\n",
      "+----------+----------+------------------------+-----------------+\n",
      "\n",
      "Comportamento do cliente para produtos mais vendidos:\n",
      "+----------+-------------+-------------------+-------+----------+\n",
      "|id_produto|visualizacoes|adicoes_ao_carrinho|compras|avaliacoes|\n",
      "+----------+-------------+-------------------+-------+----------+\n",
      "|         1|           44|                 47|     39|        43|\n",
      "|         2|           41|                 30|     40|        35|\n",
      "|         3|           51|                 44|     42|        45|\n",
      "|         4|           48|                 34|     41|        38|\n",
      "|         6|           53|                 44|     33|        44|\n",
      "+----------+-------------+-------------------+-------+----------+\n",
      "\n"
     ]
    }
   ],
   "source": [
    "# Analisar comportamento do cliente para produtos mais vendidos\n",
    "produtos_top = resumo_vendas1 \\\n",
    "    .orderBy(col(\"quantidade_total_vendida\").desc()) \\\n",
    "    .limit(5)\n",
    "\n",
    "comportamento_produtos_top = resumo_comportamento_cliente \\\n",
    "    .join(produtos_top, resumo_comportamento_cliente.id_produto == produtos_top.id_produto) \\\n",
    "    .select(\n",
    "        resumo_comportamento_cliente.id_produto,\n",
    "        resumo_comportamento_cliente.visualizacoes,\n",
    "        resumo_comportamento_cliente.adicoes_ao_carrinho,\n",
    "        resumo_comportamento_cliente.compras,\n",
    "        resumo_comportamento_cliente.avaliacoes\n",
    "    ) \\\n",
    "    .orderBy(\"id_produto\", ascending=True)\n",
    "\n",
    "print(\"Produtos mais vendidos:\")\n",
    "produtos_top.show()\n",
    "\n",
    "print(\"Comportamento do cliente para produtos mais vendidos:\")\n",
    "comportamento_produtos_top.show()"
   ]
  },
  {
   "cell_type": "code",
   "execution_count": 56,
   "metadata": {},
   "outputs": [
    {
     "name": "stdout",
     "output_type": "stream",
     "text": [
      "Taxa de conversão:\n",
      "+----------+-------------+-------------------+-------+----------+------------------+\n",
      "|id_produto|visualizacoes|adicoes_ao_carrinho|compras|avaliacoes|    taxa_conversao|\n",
      "+----------+-------------+-------------------+-------+----------+------------------+\n",
      "|         1|           44|                 47|     39|        43|0.8963636363636364|\n",
      "|         2|           41|                 30|     40|        35| 0.985609756097561|\n",
      "|         3|           51|                 44|     42|        45|0.8335294117647059|\n",
      "|         4|           48|                 34|     41|        38|0.8641666666666666|\n",
      "|         5|           52|                 42|     35|        35|0.6830769230769231|\n",
      "|         6|           53|                 44|     33|        44|0.6326415094339622|\n",
      "+----------+-------------+-------------------+-------+----------+------------------+\n",
      "\n"
     ]
    }
   ],
   "source": [
    "# Calcular a taxa de conversão (visualizações para compras)\n",
    "# Adicionamos 0.01 para evitar divisão por zero\n",
    "taxa_conversao = resumo_comportamento_cliente \\\n",
    "    .withColumn(\"taxa_conversao\", col(\"compras\") / col(\"visualizacoes\") + 0.01) \\\n",
    "    .orderBy(\"id_produto\", ascending=True)\n",
    "\n",
    "print(\"Taxa de conversão:\")\n",
    "taxa_conversao.show()"
   ]
  }
 ],
 "metadata": {
  "kernelspec": {
   "display_name": "base",
   "language": "python",
   "name": "python3"
  },
  "language_info": {
   "codemirror_mode": {
    "name": "ipython",
    "version": 3
   },
   "file_extension": ".py",
   "mimetype": "text/x-python",
   "name": "python",
   "nbconvert_exporter": "python",
   "pygments_lexer": "ipython3",
   "version": "3.12.2"
  }
 },
 "nbformat": 4,
 "nbformat_minor": 2
}
