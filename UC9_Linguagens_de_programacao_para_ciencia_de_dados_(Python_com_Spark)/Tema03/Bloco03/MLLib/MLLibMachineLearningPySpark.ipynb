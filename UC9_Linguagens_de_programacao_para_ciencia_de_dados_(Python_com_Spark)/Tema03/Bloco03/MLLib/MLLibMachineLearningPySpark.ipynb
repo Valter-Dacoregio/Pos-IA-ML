{
 "cells": [
  {
   "cell_type": "code",
   "execution_count": 39,
   "metadata": {},
   "outputs": [],
   "source": [
    "from pyspark.sql import SparkSession\n",
    "from pyspark.ml.feature import VectorAssembler, StandardScaler\n",
    "from pyspark.ml.regression import RandomForestRegressor\n",
    "from pyspark.ml.evaluation import RegressionEvaluator\n",
    "from pyspark.sql.types import StructType, StructField, IntegerType, FloatType\n",
    "from pyspark.ml import Pipeline"
   ]
  },
  {
   "cell_type": "code",
   "execution_count": 40,
   "metadata": {},
   "outputs": [],
   "source": [
    "# Iniciar a sessão do Spark\n",
    "spark = SparkSession.builder.appName(\"RandomForest\").getOrCreate()"
   ]
  },
  {
   "cell_type": "code",
   "execution_count": 42,
   "metadata": {},
   "outputs": [],
   "source": [
    "# Carregar o dataset\n",
    "df = spark.read.csv(\"pacientes_diabetes.csv\", header=True, inferSchema=True)"
   ]
  },
  {
   "cell_type": "code",
   "execution_count": 43,
   "metadata": {},
   "outputs": [
    {
     "name": "stdout",
     "output_type": "stream",
     "text": [
      "Amostra dos dados:\n",
      "+---+----------+-----+----+----------------+--------+-----------------+-------------+\n",
      "| id|data_exame|idade| imc|pressao_arterial|insulina|exercicio_semanal|nivel_glicose|\n",
      "+---+----------+-----+----+----------------+--------+-----------------+-------------+\n",
      "|  1|2022-06-06|   74|29.2|             118|    16.0|                3|        383.4|\n",
      "|  2|2021-08-11|   87|35.5|             151|    37.1|                6|        131.1|\n",
      "|  3|2022-04-07|   51|39.4|             159|    33.5|                1|        200.6|\n",
      "|  4|2022-03-23|   78|35.4|             111|    47.7|                5|         86.2|\n",
      "|  5|2020-11-26|   72|38.0|             127|    18.1|                6|        327.3|\n",
      "+---+----------+-----+----+----------------+--------+-----------------+-------------+\n",
      "only showing top 5 rows\n",
      "\n",
      "\n",
      "Estrutura do DataFrame:\n",
      "root\n",
      " |-- id: integer (nullable = true)\n",
      " |-- data_exame: date (nullable = true)\n",
      " |-- idade: integer (nullable = true)\n",
      " |-- imc: double (nullable = true)\n",
      " |-- pressao_arterial: integer (nullable = true)\n",
      " |-- insulina: double (nullable = true)\n",
      " |-- exercicio_semanal: integer (nullable = true)\n",
      " |-- nivel_glicose: double (nullable = true)\n",
      "\n"
     ]
    }
   ],
   "source": [
    "# Mostrar as primeiras linhas e o schema do DataFrame\n",
    "print(\"Amostra dos dados:\")\n",
    "df.show(5)\n",
    "print(\"\\nEstrutura do DataFrame:\")\n",
    "df.printSchema()"
   ]
  },
  {
   "cell_type": "code",
   "execution_count": 48,
   "metadata": {},
   "outputs": [
    {
     "name": "stderr",
     "output_type": "stream",
     "text": [
      "                                                                                \r"
     ]
    },
    {
     "name": "stdout",
     "output_type": "stream",
     "text": [
      "\n",
      "Erro Quadrático Médio (RMSE): 94.96183762006302\n"
     ]
    }
   ],
   "source": [
    "# Prepara os dados para o modelo\n",
    "feature_columns = [\"idade\", \"imc\", \"pressao_arterial\", \"insulina\", \"exercicio_semanal\"]\n",
    "assember = VectorAssembler(inputCols=feature_columns, outputCol=\"features\")\n",
    "scaler = StandardScaler(inputCol=\"features\", outputCol=\"scaled_features\")\n",
    "\n",
    "# Criar e treinar o modelo RandomForest\n",
    "rf = RandomForestRegressor(featuresCol=\"scaled_features\", labelCol=\"nivel_glicose\", numTrees=100)\n",
    "\n",
    "# Criar o pipeline\n",
    "pipeline = Pipeline(stages=[assember, scaler, rf])\n",
    "\n",
    "# Dividir o dataset em treino e teste\n",
    "train_data, test_data = df.randomSplit([0.8, 0.2], seed=42)\n",
    "\n",
    "# Ajustar o Pipeline ao conjunto de treino\n",
    "model = pipeline.fit(train_data)\n",
    "\n",
    "# Fazer previsões no conjunto de teste\n",
    "predictions = model.transform(test_data)\n",
    "\n",
    "# Avaliar o modelo\n",
    "'''\n",
    "O Erro Quadrático Médio (RMSE - Root Mean Squared Error, em inglês) é uma métrica que mede a média dos quadrados dos erros, ou seja, a diferença entre o valor real e o valor previsto ao quadrado.\n",
    "    - O RMSE é expresso na mesma unidade da variável alvo, o que facilita a interpretação.\n",
    "    - Quanto menor o RMSE, melhor o modelo.\n",
    "    - Um RMSE de 0 indica que o modelo prevê os valores com perfeição.\n",
    "'''\n",
    "evaluator = RegressionEvaluator(labelCol=\"nivel_glicose\", predictionCol=\"prediction\", metricName=\"rmse\")\n",
    "rmse = evaluator.evaluate(predictions)\n",
    "print(f\"\\nErro Quadrático Médio (RMSE): {rmse}\")"
   ]
  },
  {
   "cell_type": "code",
   "execution_count": 59,
   "metadata": {},
   "outputs": [],
   "source": [
    "# Função para prever o nível de glicose de um novo paciente\n",
    "def prever_nivel_glicose(idade, imc, pressao_arterial, insulina, exercicio_semanal):\n",
    "    print(\"\\nPrevisão para um novo paciente:\")\n",
    "    print(f\"Idade: {idade}\")\n",
    "    print(f\"IMC: {imc}\")\n",
    "    print(f\"Pressão Arterial: {pressao_arterial}\")\n",
    "    print(f\"Insulina: {insulina}\")\n",
    "    print(f\"Exercício Semanal: {exercicio_semanal}\")\n",
    "    \n",
    "    data = [(idade, imc, pressao_arterial, insulina, exercicio_semanal)]\n",
    "    schema=StructType([\n",
    "        StructField(\"idade\", IntegerType(), True),\n",
    "        StructField(\"imc\", FloatType(), True),\n",
    "        StructField(\"pressao_arterial\", IntegerType(), True),\n",
    "        StructField(\"insulina\", IntegerType(), True),\n",
    "        StructField(\"exercicio_semanal\", IntegerType(), True)\n",
    "    ])\n",
    "    novo_df_com_paciente = spark.createDataFrame(data, schema)\n",
    "    prediction = model.transform(novo_df_com_paciente).head()\n",
    "\n",
    "    # print(novo_df_com_paciente.show())\n",
    "    # print(prediction)\n",
    "    # print(prediction[\"prediction\"])\n",
    "\n",
    "    return prediction[\"prediction\"]"
   ]
  },
  {
   "cell_type": "code",
   "execution_count": 60,
   "metadata": {},
   "outputs": [
    {
     "name": "stdout",
     "output_type": "stream",
     "text": [
      "\n",
      "Previsão para um novo paciente:\n",
      "Idade: 50\n",
      "IMC: 30.0\n",
      "Pressão Arterial: 80\n",
      "Insulina: 100\n",
      "Exercício Semanal: 2\n",
      "\n",
      "O nível de glicose previsto para o novo paciente 1 é: 240.01\n",
      "\n",
      "Previsão para um novo paciente:\n",
      "Idade: 30\n",
      "IMC: 25.0\n",
      "Pressão Arterial: 70\n",
      "Insulina: 50\n",
      "Exercício Semanal: 3\n",
      "\n",
      "O nível de glicose previsto para o novo paciente 2 é: 236.92\n",
      "\n",
      "Previsão para um novo paciente:\n",
      "Idade: 30\n",
      "IMC: 25.0\n",
      "Pressão Arterial: 120\n",
      "Insulina: 10\n",
      "Exercício Semanal: 3\n",
      "\n",
      "O nível de glicose previsto para o novo paciente 3 é: 235.52\n"
     ]
    }
   ],
   "source": [
    "novo_paciente1 = (50, 30.0, 80, 100, 2)\n",
    "nivel_glicose1 = prever_nivel_glicose(*novo_paciente1)\n",
    "print(f\"\\nO nível de glicose previsto para o novo paciente 1 é: {nivel_glicose1:.2f}\")\n",
    "\n",
    "novo_paciente2 = (30, 25.0, 70, 50, 3)\n",
    "nivel_glicose2 = prever_nivel_glicose(*novo_paciente2)\n",
    "print(f\"\\nO nível de glicose previsto para o novo paciente 2 é: {nivel_glicose2:.2f}\")\n",
    "\n",
    "novo_paciente3 = (30, 25.0, 120, 10, 3)\n",
    "nivel_glicose3 = prever_nivel_glicose(*novo_paciente3)\n",
    "print(f\"\\nO nível de glicose previsto para o novo paciente 3 é: {nivel_glicose3:.2f}\")"
   ]
  },
  {
   "cell_type": "code",
   "execution_count": 38,
   "metadata": {},
   "outputs": [],
   "source": [
    "\n",
    "# Encerrar a sessão do Spark\n",
    "spark.stop()"
   ]
  }
 ],
 "metadata": {
  "kernelspec": {
   "display_name": "base",
   "language": "python",
   "name": "python3"
  },
  "language_info": {
   "codemirror_mode": {
    "name": "ipython",
    "version": 3
   },
   "file_extension": ".py",
   "mimetype": "text/x-python",
   "name": "python",
   "nbconvert_exporter": "python",
   "pygments_lexer": "ipython3",
   "version": "3.12.2"
  }
 },
 "nbformat": 4,
 "nbformat_minor": 2
}
