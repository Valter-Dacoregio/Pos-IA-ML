{
 "cells": [
  {
   "cell_type": "code",
   "execution_count": 1,
   "metadata": {},
   "outputs": [],
   "source": [
    "####################################################\n",
    "# Base de dados Abertas\n",
    "####################################################\n",
    "\n",
    "# GOV BR\n",
    "# https://dados.gov.br/dados/conjuntos-dados\n",
    "\n",
    "# BASE DOS DADOS .ORG\n",
    "# https://basedosdados.org/\n",
    "\n",
    "# Estatísticas IBGE\n",
    "# https://www.ibge.gov.br/estatisticas/downloads-estatisticas.html\n",
    "\n",
    "# Portal da Transparência\n",
    "# https://portaldatransparencia.gov.br/download-de-dados\n",
    "\n",
    "# Dados Abertos do Banco Central do Brasil\n",
    "# https://dadosabertos.bcb.gov.br/"
   ]
  },
  {
   "cell_type": "code",
   "execution_count": 2,
   "metadata": {},
   "outputs": [],
   "source": [
    "from pyspark.sql import SparkSession\n",
    "from pyspark.sql.functions import col, sum, avg\n",
    "import time\n",
    "import pandas as pd"
   ]
  },
  {
   "cell_type": "code",
   "execution_count": 6,
   "metadata": {},
   "outputs": [
    {
     "name": "stderr",
     "output_type": "stream",
     "text": [
      "                                                                                \r"
     ]
    },
    {
     "name": "stdout",
     "output_type": "stream",
     "text": [
      "Tempo de execução com Spark: 0.5313839912414551 segundos\n"
     ]
    },
    {
     "name": "stderr",
     "output_type": "stream",
     "text": [
      "24/11/24 11:40:55 WARN package: Truncated the string representation of a plan since it was too large. This behavior can be adjusted by setting 'spark.sql.debug.maxToStringFields'.\n",
      "                                                                                \r"
     ]
    },
    {
     "name": "stdout",
     "output_type": "stream",
     "text": [
      "Tempo de execução com Pandas: 0.03389120101928711 segundos\n",
      "== Physical Plan ==\n",
      "AdaptiveSparkPlan isFinalPlan=false\n",
      "+- HashAggregate(keys=[ano#833], functions=[sum(irpf#843)])\n",
      "   +- Exchange hashpartitioning(ano#833, 200), ENSURE_REQUIREMENTS, [plan_id=469]\n",
      "      +- HashAggregate(keys=[ano#833], functions=[partial_sum(irpf#843)])\n",
      "         +- FileScan csv [ano#833,irpf#843] Batched: false, DataFilters: [], Format: CSV, Location: InMemoryFileIndex(1 paths)[file:/Users/valter/Documents/dev/Estudos/Pos-IA-ML/UC9_Linguagens_de_p..., PartitionFilters: [], PushedFilters: [], ReadSchema: struct<ano:int,irpf:double>\n",
      "\n",
      "\n"
     ]
    }
   ],
   "source": [
    "# Inicializa a sessão Spark\n",
    "spark = SparkSession.builder.appName(\"BaseDadosAbertas\").getOrCreate()\n",
    "\n",
    "# nome_arquivo_csv = \"br_rf_arrecadacao_uf.csv\"\n",
    "nome_arquivo_csv = \"br_rf_arrecadacao_uf_maior.csv\"\n",
    "\n",
    "# carregar dados\n",
    "df = spark.read.csv(nome_arquivo_csv, header=True, inferSchema=True)\n",
    "\n",
    "# Operações básicas\n",
    "filtered_df = df.filter(col(\"ipi_automoveis\") > 10000)\n",
    "grouped_df = df.groupBy(\"sigla_uf\").agg(sum(\"irpf\")).alias(\"total_irpf\")\n",
    "\n",
    "# Operação complexa para comparação de desempenho\n",
    "def complex_operation(df):\n",
    "    start_time = time.time()\n",
    "    result = df.groupBy(\"ano\", \"sigla_uf\") \\\n",
    "        .agg(sum(\"irpf\").alias(\"total_irpf\"), avg(\"ipi_fumo\").alias(\"media_ipi_fumo\")) \\\n",
    "        .orderBy(\"ano\", \"sigla_uf\")\n",
    "    result.count() # Forçar a execução da operação\n",
    "    end_time = time.time()\n",
    "    return end_time - start_time\n",
    "\n",
    "spark_time = complex_operation(df)\n",
    "print(f\"Tempo de execução com Spark: {spark_time} segundos\")\n",
    "\n",
    "# Comparação com Pandas (se o conjunto de dados for pequeno o suficiente para caber na memória)\n",
    "pandas_df = df.toPandas()\n",
    "# pandas_df = pd.read_csv(nome_arquivo_csv)\n",
    "\n",
    "def pandas_complex_operation(df):\n",
    "    start_time = time.time()\n",
    "    result = df.groupby([\"ano\", \"sigla_uf\"]) \\\n",
    "        .agg({\"irpf\": \"sum\", \"ipi_fumo\": \"mean\"}) \\\n",
    "        .reset_index() \\\n",
    "        .sort_values(by=[\"ano\", \"sigla_uf\"])\n",
    "    end_time = time.time()\n",
    "    return end_time - start_time\n",
    "# def pandas_complex_operation(df):\n",
    "#     start_time = time.time()\n",
    "#     result = df.groupby([\"ano\", \"sigla_uf\"]).agg(\n",
    "#         irpf_sum=pd.NamedAgg(column=\"irpf\", aggfunc=\"sum\"),\n",
    "#         ipi_fumo_mean=pd.NamedAgg(column=\"ipi_fumo\", aggfunc=\"mean\")\n",
    "#     ).reset_index().sort_values(by=[\"ano\", \"sigla_uf\"])\n",
    "#     end_time = time.time()\n",
    "#     return end_time - start_time\n",
    "\n",
    "pandas_time = pandas_complex_operation(pandas_df)\n",
    "print(f\"Tempo de execução com Pandas: {pandas_time} segundos\")\n",
    "\n",
    "# Visualizar planos de execução\n",
    "df.groupBy(\"ano\").agg(sum(\"irpf\")).alias(\"total_irpf\").explain()\n",
    "\n",
    "# Encerrar a sessão Spark\n",
    "spark.stop()"
   ]
  },
  {
   "cell_type": "code",
   "execution_count": null,
   "metadata": {},
   "outputs": [],
   "source": []
  }
 ],
 "metadata": {
  "kernelspec": {
   "display_name": "base",
   "language": "python",
   "name": "python3"
  },
  "language_info": {
   "codemirror_mode": {
    "name": "ipython",
    "version": 3
   },
   "file_extension": ".py",
   "mimetype": "text/x-python",
   "name": "python",
   "nbconvert_exporter": "python",
   "pygments_lexer": "ipython3",
   "version": "3.12.2"
  }
 },
 "nbformat": 4,
 "nbformat_minor": 2
}
