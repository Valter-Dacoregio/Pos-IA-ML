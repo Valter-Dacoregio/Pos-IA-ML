{
 "cells": [
  {
   "cell_type": "code",
   "execution_count": 18,
   "id": "005ca41f-143c-4578-9d51-f7084728160d",
   "metadata": {},
   "outputs": [
    {
     "name": "stdout",
     "output_type": "stream",
     "text": [
      "Olá Mundo\n"
     ]
    }
   ],
   "source": [
    "print(\"Olá Mundo\")"
   ]
  },
  {
   "cell_type": "code",
   "execution_count": 5,
   "id": "4750e80b-91c4-4fb4-b5c7-f41740610589",
   "metadata": {},
   "outputs": [],
   "source": [
    "texto_arquivo = open(\"texto.txt\")"
   ]
  },
  {
   "cell_type": "code",
   "execution_count": 8,
   "id": "bd392be8-c59b-41e4-9a75-2c161f668bbd",
   "metadata": {},
   "outputs": [],
   "source": [
    "conteudo_texto = texto_arquivo.read()"
   ]
  },
  {
   "cell_type": "code",
   "execution_count": 9,
   "id": "38f702c1-920d-4025-baec-6fc2065d0adc",
   "metadata": {},
   "outputs": [
    {
     "name": "stdout",
     "output_type": "stream",
     "text": [
      "Turing, em seu famoso artigo chamou seu experimento mental de Jogo da Imitação (que após alguns anos passou a ser chamado de Teste de Turing). Este experimento é utilizado até hoje para avaliar o quanto um sistema é realmente inteligente. Abrindo então as portas para o estudo da Inteligência Artificial.\n"
     ]
    }
   ],
   "source": [
    "print(conteudo_texto)"
   ]
  },
  {
   "cell_type": "code",
   "execution_count": 22,
   "id": "d4d666e9-8226-4df4-89f7-c43c9b07bfc4",
   "metadata": {},
   "outputs": [
    {
     "name": "stdout",
     "output_type": "stream",
     "text": [
      "3.9.1\n"
     ]
    },
    {
     "name": "stderr",
     "output_type": "stream",
     "text": [
      "[nltk_data] Downloading package punkt to /Users/valter/nltk_data...\n",
      "[nltk_data]   Package punkt is already up-to-date!\n",
      "[nltk_data] Downloading package punkt_tab to\n",
      "[nltk_data]     /Users/valter/nltk_data...\n",
      "[nltk_data]   Unzipping tokenizers/punkt_tab.zip.\n"
     ]
    },
    {
     "data": {
      "text/plain": [
       "True"
      ]
     },
     "execution_count": 22,
     "metadata": {},
     "output_type": "execute_result"
    }
   ],
   "source": [
    "import nltk\n",
    "print(nltk.__version__)\n",
    "nltk.download('punkt')\n",
    "nltk.download('punkt_tab')"
   ]
  },
  {
   "cell_type": "code",
   "execution_count": 5,
   "id": "4e515da7-3625-415f-b49f-1929f21d09ad",
   "metadata": {},
   "outputs": [],
   "source": [
    "from nltk import sent_tokenize\n",
    "from nltk import word_tokenize"
   ]
  },
  {
   "cell_type": "code",
   "execution_count": 24,
   "id": "4a521091-3cb3-49ab-8548-74a21d40fce1",
   "metadata": {},
   "outputs": [],
   "source": [
    "sentencas = sent_tokenize(conteudo_texto)"
   ]
  },
  {
   "cell_type": "code",
   "execution_count": 26,
   "id": "c85ba92b-6eb2-4046-bb36-3b0e00e39983",
   "metadata": {},
   "outputs": [
    {
     "name": "stdout",
     "output_type": "stream",
     "text": [
      "3\n"
     ]
    }
   ],
   "source": [
    "print(len(sentencas))"
   ]
  },
  {
   "cell_type": "code",
   "execution_count": 28,
   "id": "5ef92b31-3d67-4f7c-a07a-1db0cdd708fc",
   "metadata": {},
   "outputs": [
    {
     "name": "stdout",
     "output_type": "stream",
     "text": [
      "['Turing, em seu famoso artigo chamou seu experimento mental de Jogo da Imitação (que após alguns anos passou a ser chamado de Teste de Turing).', 'Este experimento é utilizado até hoje para avaliar o quanto um sistema é realmente inteligente.', 'Abrindo então as portas para o estudo da Inteligência Artificial.']\n"
     ]
    }
   ],
   "source": [
    "print(sentencas)"
   ]
  },
  {
   "cell_type": "code",
   "execution_count": 29,
   "id": "04cd1b6b-a082-4efe-8cdc-8931e18e597f",
   "metadata": {},
   "outputs": [],
   "source": [
    "palavras = word_tokenize(conteudo_texto)"
   ]
  },
  {
   "cell_type": "code",
   "execution_count": 31,
   "id": "7fd43544-e930-4391-b6dc-39835a6c4d7c",
   "metadata": {},
   "outputs": [
    {
     "name": "stdout",
     "output_type": "stream",
     "text": [
      "56\n"
     ]
    }
   ],
   "source": [
    "print(len(palavras))"
   ]
  },
  {
   "cell_type": "code",
   "execution_count": 32,
   "id": "20d498fb-37c4-4157-a450-e7c60d2f3b3f",
   "metadata": {},
   "outputs": [
    {
     "name": "stdout",
     "output_type": "stream",
     "text": [
      "['Turing', ',', 'em', 'seu', 'famoso', 'artigo', 'chamou', 'seu', 'experimento', 'mental', 'de', 'Jogo', 'da', 'Imitação', '(', 'que', 'após', 'alguns', 'anos', 'passou', 'a', 'ser', 'chamado', 'de', 'Teste', 'de', 'Turing', ')', '.', 'Este', 'experimento', 'é', 'utilizado', 'até', 'hoje', 'para', 'avaliar', 'o', 'quanto', 'um', 'sistema', 'é', 'realmente', 'inteligente', '.', 'Abrindo', 'então', 'as', 'portas', 'para', 'o', 'estudo', 'da', 'Inteligência', 'Artificial', '.']\n"
     ]
    }
   ],
   "source": [
    "print(palavras)"
   ]
  },
  {
   "cell_type": "code",
   "execution_count": 14,
   "id": "85f596f2-46d9-4532-80d5-be286a11de58",
   "metadata": {},
   "outputs": [],
   "source": [
    "from nltk.probability import FreqDist"
   ]
  },
  {
   "cell_type": "code",
   "execution_count": 34,
   "id": "eb5add9f-9919-4898-b35a-bab1dec63822",
   "metadata": {},
   "outputs": [],
   "source": [
    "freq = FreqDist(palavras)"
   ]
  },
  {
   "cell_type": "code",
   "execution_count": 38,
   "id": "3f445839-cd29-4938-8998-f700ad90a856",
   "metadata": {},
   "outputs": [
    {
     "data": {
      "text/plain": [
       "[('de', 3), ('.', 3), ('Turing', 2), ('seu', 2), ('experimento', 2)]"
      ]
     },
     "execution_count": 38,
     "metadata": {},
     "output_type": "execute_result"
    }
   ],
   "source": [
    "freq.most_common(5)"
   ]
  },
  {
   "cell_type": "code",
   "execution_count": 13,
   "id": "7f50031d-1228-47fb-be74-24d91c96768e",
   "metadata": {},
   "outputs": [],
   "source": [
    "import matplotlib.pyplot as plt"
   ]
  },
  {
   "cell_type": "code",
   "execution_count": 42,
   "id": "34b4fc72-0b90-4f44-9d16-949b8e28e740",
   "metadata": {},
   "outputs": [
    {
     "data": {
      "text/plain": [
       "<Axes: xlabel='Samples', ylabel='Counts'>"
      ]
     },
     "execution_count": 42,
     "metadata": {},
     "output_type": "execute_result"
    },
    {
     "data": {
      "image/png": "[encoded data removed]",
      "text/plain": [
       "<Figure size 640x480 with 1 Axes>"
      ]
     },
     "metadata": {},
     "output_type": "display_data"
    }
   ],
   "source": [
    "freq.plot(8)"
   ]
  },
  {
   "cell_type": "code",
   "execution_count": 1,
   "id": "11329ca2-5e0e-4842-a31a-9e46ff6851d4",
   "metadata": {},
   "outputs": [],
   "source": [
    " texto_arquivo2 = open(\"noticias.txt\")"
   ]
  },
  {
   "cell_type": "code",
   "execution_count": 2,
   "id": "cb20c292-fa58-4495-bce0-cadd8d54aa5f",
   "metadata": {},
   "outputs": [],
   "source": [
    "conteudo_texto2 = texto_arquivo2.read()"
   ]
  },
  {
   "cell_type": "code",
   "execution_count": 3,
   "id": "e1259497-dfdc-4b72-ade5-c9113b3c2847",
   "metadata": {},
   "outputs": [
    {
     "data": {
      "text/plain": [
       "'With the Milwaukee Bucks seeking their first NBA championship in 50 years, their superstar guided th'"
      ]
     },
     "execution_count": 3,
     "metadata": {},
     "output_type": "execute_result"
    }
   ],
   "source": [
    "conteudo_texto2[:100]"
   ]
  },
  {
   "cell_type": "code",
   "execution_count": 6,
   "id": "c38cf17d-78e8-46c8-ae9d-528a661b5e9e",
   "metadata": {},
   "outputs": [],
   "source": [
    "sentencas2 = sent_tokenize(conteudo_texto2)"
   ]
  },
  {
   "cell_type": "code",
   "execution_count": 8,
   "id": "80ed6e82-40de-4c7c-93a2-0b514dc9f38a",
   "metadata": {},
   "outputs": [
    {
     "name": "stdout",
     "output_type": "stream",
     "text": [
      "71\n"
     ]
    }
   ],
   "source": [
    "print(len(sentencas2))"
   ]
  },
  {
   "cell_type": "code",
   "execution_count": 9,
   "id": "25989258-cc3d-4ac4-a8e1-a9e49a4e8826",
   "metadata": {},
   "outputs": [
    {
     "name": "stdout",
     "output_type": "stream",
     "text": [
      "['With the Milwaukee Bucks seeking their first NBA championship in 50 years, their superstar guided the way, putting up 50 points in a legendary NBA Finals-clinching win Tuesday night against the Phoenix Suns.', 'Led by MVP Giannis Antetokounmpo, who also had 14 rebounds and five blocked shots, the Bucks pulled away from the Suns to win 105-98 in a raucous Fiserv Forum.', 'Khris Middleton chipped in 17 points and Bobby Portis had 16.', \"Phoenix's Chris Paul led the Suns with 26 points.\", 'Antetokounmpo -- who was born in Athens, Greece -- was 16 for 25 from the field and hit all but two of his 19 free throws.', 'He also had five blocks in a performance hailed by commentators and fellow players as one for the ages.', \"Antetokounmpo was the first player to have at least 40 points, 10 rebounds and five blocks in a Finals' game since blocks were first recorded in 1974, the NBA tweeted.\", 'He became the seventh player to have at least 50 points in the championship round.', '\"I want to thank Milwaukee for believing in me, thank my teammates,\" said Antetokounmpo after accepting the Finals MVP award.', '\"They played hard every freaking game.', 'I trusted this team.', \"I wanted to do it here in this city, I wanted to do it with these guys, so I'm happy.\", 'I\\'m happy that we were able to get it done.\"', 'Bucks Coach Mike Budenholzer praised the Suns, saying they had great players, a great coach and a great organization.', 'Then he hailed his team.', '\"These players, they\\'re champions every day,\" he told NBA Finals broadcaster ABC.', '\"Every day they come to the building they are champions.', \"They've embraced getting better every day, they've embraced competing, they've embraced playing together.\", \"And it's made them champions tonight.\", 'I couldn\\'t be more proud of them.\"', \"Paul, an 11-time All-Star who made his first appearance in an NBA Finals, said he hadn't seen a stat sheet but it felt like his team made too many turnovers.\", '\"They made timely shots, we didn\\'t,\" he said.', '\"We didn\\'t get stops when we needed to and they just beat us.\"', 'Paul, 36, said he is not thinking about retiring.', 'It was a gut-wrenching loss for Suns coach Monty Williams.', '\"I think it\\'s going to take me a minute.', \"I just don't take it for granted.\", \"It's hard to get here and I wanted it so bad, you know.\", \"It's hard to process right now.\", \"It's hard.\", 'That\\'s all.\"', 'The Bucks led by 13 points after the first quarter, 29-16.', 'Antetokounmpo had 10 points and six rebounds in the period.', 'The Suns shot 7 for 24 (29%) in the quarter.', \"It was Phoenix's lowest point total for the first quarter in the 2021 playoffs.\", \"But Paul led a Suns' rally, scoring 10 points as Phoenix quickly made up the deficit and took a 47-42 lead into halftime.\", 'The score was tied at 77 after three quarters as Antetokounmpo poured in 20 points in the period.', 'He had 13 more in the fourth quarter as the Bucks pulled away, including a stretch where he scored six consecutive points for his team.', 'In 1971, the Bucks won the title in their third season behind the standout play of Kareem Abdul-Jabbar (then Lew Alcindor) and Oscar Robertson.', 'They beat the Baltimore Bullets in the final four games to none, winning the final game on the road.', \"This was the Bucks' first appearance in the Finals since 1974 and it was the Suns' third appearance in the Finals, the most recent coming in 1993.\", 'The franchise has never won an NBA championship.', 'Three players from the NBA Finals will head to Tokyo to suit up for Team USA in the Olympics: Middleton, Bucks guard Jrue Holiday and Suns guard Devin Booker.', \"After the game, Booker said he'd be boarding a plane in a few hours.\", 'The American Academy of Pediatrics released new Covid-19 guidance for schools on Monday that supports in-person learning and recommends universal masking in school of everyone over the age of 2, regardless of vaccination status -- a stricter position than that taken this month by the US Centers for Disease Control and Prevention.', '\"The AAP believes that, at this point in the pandemic, given what we know about low rates of in-school transmission when proper prevention measures are used, together with the availability of effective vaccines for those age 12 years and up, that the benefits of in-person school outweigh the risks in all circumstances,\" the guidance says.', 'One of the main interventions put forward by the AAP is that all students over the age of 2 and all school staff should wear masks at school unless they have a medical or developmental condition that prohibits this.', 'Reasons for this recommendation include but are not limited to: a significant proportion of the student population is not yet eligible for vaccination; masking protects those who are not vaccinated against Covid-19 and reduces transmission; and potential difficulty in monitoring or enforcing mask policies for those who are not vaccinated.', '\"There are many children and others who cannot be vaccinated,\" Dr. Sara Bode, chair-elect of the AAP Council on School Health Executive Committee, said Monday in a statement.', '\"This is why it\\'s important to use every tool in our toolkit to safeguard children from COVID-19.', 'Universal masking is one of those tools, and has been proven effective in protecting people against other respiratory diseases, as well.', 'It\\'s also the most effective strategy to create consistent messages and expectations among students without the added burden of needing to monitor everyone\\'s vaccination status.\"', \"The AAP's recommendation on universal masking is different from guidance by CDC, which also prioritized in-person learning but advised that fully vaccinated students, teachers and staff don't need to wear masks at school.\", \"AAP's more cautious mask guidance is understandable, said Dr. Anthony Fauci, director of the National Institute of Allergy and Infectious Diseases.\", '\"When you have a degree of viral dynamics in the community and you have a substantial proportion of the population that is unvaccinated, you really want to go the extra step, the extra mile, to make sure that there is not a lot of transmission, even breakthrough infections among vaccinated individuals,\" Fauci told CNN on Monday.', \"The differing guidance could cause some confusion, Fauci acknowledged while noting the CDC's guidance allows for local states, cities and other agencies to make their own judgments.\", '\"I think that the American Academy of Pediatrics (is) a thoughtful group.', 'They analyze the situation, and if they feel that that\\'s the way to go, I think that is a reasonable thing to do,\" he said.', 'Extreme heat and dry conditions are fueling raging wildfires in the western US, charring more than a million acres, requiring evacuations and creating smoky conditions visible from space.', 'Smoke stretched early Wednesday all the way to the East Coast, including New York City, because high-level winds carried them thousands of miles from the West.', 'The smoke mixed down to the surface in New York City, creating an eerie scene Wednesday morning -- though a cold front is expected to usher the smoke out of the area later in the day.', 'In the West, the fires have caused power outages, destroyed structures and prompted the deployment of the Oregon National Guard.', \"As extreme drought still grips most of the West and the fires have become so intense they've created their own weather systems, the threat of more fires remains.\", \"In Oregon -- where eight fires have burned nearly 475,000 acres -- officials said the current fire season is unlike any they've seen before.\", '\"I would categorize this fire season thus far as historic in terms of the amount of resources we\\'ve deployed, how many times we\\'ve deployed -- within a three-week period we\\'ve mobilized to six conflagrations -- and this is the earliest and most significant mobilization to date,\" Mariana Ruiz-Temple with the Oregon fire marshal\\'s office said Tuesday.', 'At least 1.29 million acres have burned in 83 large fires across 13 states as of Tuesday, according to the National Interagency Fire Center.', 'More than 19,000 wildland firefighters and support personnel have been deployed to deal with the blazes.', 'Advisories for elevated fire potential and activity have been issued across Idaho, California, Oregon and the Northern Rockies, according to fire center.', \"It's not just fires in the US contributing to the smoky haze.\", 'The Canadian province of British Columbia declared an emergency due to wildfires there effective Wednesday.', 'Nearly 300 active wildfires have been reported in the province.']\n"
     ]
    }
   ],
   "source": [
    "print(sentencas2)"
   ]
  },
  {
   "cell_type": "code",
   "execution_count": 10,
   "id": "c4f9741a-412b-4ac7-819a-d61df6e7a0ca",
   "metadata": {},
   "outputs": [],
   "source": [
    "palavras2 = word_tokenize(conteudo_texto2)"
   ]
  },
  {
   "cell_type": "code",
   "execution_count": 11,
   "id": "a88e3b1b-7eac-4a11-bd2d-003b6d9ef554",
   "metadata": {},
   "outputs": [
    {
     "name": "stdout",
     "output_type": "stream",
     "text": [
      "['With', 'the', 'Milwaukee', 'Bucks', 'seeking', 'their', 'first', 'NBA', 'championship', 'in', '50', 'years', ',', 'their', 'superstar', 'guided', 'the', 'way', ',', 'putting', 'up', '50', 'points', 'in', 'a', 'legendary', 'NBA', 'Finals-clinching', 'win', 'Tuesday', 'night', 'against', 'the', 'Phoenix', 'Suns', '.', 'Led', 'by', 'MVP', 'Giannis', 'Antetokounmpo', ',', 'who', 'also', 'had', '14', 'rebounds', 'and', 'five', 'blocked', 'shots', ',', 'the', 'Bucks', 'pulled', 'away', 'from', 'the', 'Suns', 'to', 'win', '105-98', 'in', 'a', 'raucous', 'Fiserv', 'Forum', '.', 'Khris', 'Middleton', 'chipped', 'in', '17', 'points', 'and', 'Bobby', 'Portis', 'had', '16', '.', 'Phoenix', \"'s\", 'Chris', 'Paul', 'led', 'the', 'Suns', 'with', '26', 'points', '.', 'Antetokounmpo', '--', 'who', 'was', 'born', 'in', 'Athens', ',', 'Greece', '--', 'was', '16', 'for', '25', 'from', 'the', 'field', 'and', 'hit', 'all', 'but', 'two', 'of', 'his', '19', 'free', 'throws', '.', 'He', 'also', 'had', 'five', 'blocks', 'in', 'a', 'performance', 'hailed', 'by', 'commentators', 'and', 'fellow', 'players', 'as', 'one', 'for', 'the', 'ages', '.', 'Antetokounmpo', 'was', 'the', 'first', 'player', 'to', 'have', 'at', 'least', '40', 'points', ',', '10', 'rebounds', 'and', 'five', 'blocks', 'in', 'a', 'Finals', \"'\", 'game', 'since', 'blocks', 'were', 'first', 'recorded', 'in', '1974', ',', 'the', 'NBA', 'tweeted', '.', 'He', 'became', 'the', 'seventh', 'player', 'to', 'have', 'at', 'least', '50', 'points', 'in', 'the', 'championship', 'round', '.', '``', 'I', 'want', 'to', 'thank', 'Milwaukee', 'for', 'believing', 'in', 'me', ',', 'thank', 'my', 'teammates', ',', \"''\", 'said', 'Antetokounmpo', 'after', 'accepting', 'the', 'Finals', 'MVP', 'award', '.', '``', 'They', 'played', 'hard', 'every', 'freaking', 'game', '.', 'I', 'trusted', 'this', 'team', '.', 'I', 'wanted', 'to', 'do', 'it', 'here', 'in', 'this', 'city', ',', 'I', 'wanted', 'to', 'do', 'it', 'with', 'these', 'guys', ',', 'so', 'I', \"'m\", 'happy', '.', 'I', \"'m\", 'happy', 'that', 'we', 'were', 'able', 'to', 'get', 'it', 'done', '.', \"''\", 'Bucks', 'Coach', 'Mike', 'Budenholzer', 'praised', 'the', 'Suns', ',', 'saying', 'they', 'had', 'great', 'players', ',', 'a', 'great', 'coach', 'and', 'a', 'great', 'organization', '.', 'Then', 'he', 'hailed', 'his', 'team', '.', '``', 'These', 'players', ',', 'they', \"'re\", 'champions', 'every', 'day', ',', \"''\", 'he', 'told', 'NBA', 'Finals', 'broadcaster', 'ABC', '.', '``', 'Every', 'day', 'they', 'come', 'to', 'the', 'building', 'they', 'are', 'champions', '.', 'They', \"'ve\", 'embraced', 'getting', 'better', 'every', 'day', ',', 'they', \"'ve\", 'embraced', 'competing', ',', 'they', \"'ve\", 'embraced', 'playing', 'together', '.', 'And', 'it', \"'s\", 'made', 'them', 'champions', 'tonight', '.', 'I', 'could', \"n't\", 'be', 'more', 'proud', 'of', 'them', '.', \"''\", 'Paul', ',', 'an', '11-time', 'All-Star', 'who', 'made', 'his', 'first', 'appearance', 'in', 'an', 'NBA', 'Finals', ',', 'said', 'he', 'had', \"n't\", 'seen', 'a', 'stat', 'sheet', 'but', 'it', 'felt', 'like', 'his', 'team', 'made', 'too', 'many', 'turnovers', '.', '``', 'They', 'made', 'timely', 'shots', ',', 'we', 'did', \"n't\", ',', \"''\", 'he', 'said', '.', '``', 'We', 'did', \"n't\", 'get', 'stops', 'when', 'we', 'needed', 'to', 'and', 'they', 'just', 'beat', 'us', '.', \"''\", 'Paul', ',', '36', ',', 'said', 'he', 'is', 'not', 'thinking', 'about', 'retiring', '.', 'It', 'was', 'a', 'gut-wrenching', 'loss', 'for', 'Suns', 'coach', 'Monty', 'Williams', '.', '``', 'I', 'think', 'it', \"'s\", 'going', 'to', 'take', 'me', 'a', 'minute', '.', 'I', 'just', 'do', \"n't\", 'take', 'it', 'for', 'granted', '.', 'It', \"'s\", 'hard', 'to', 'get', 'here', 'and', 'I', 'wanted', 'it', 'so', 'bad', ',', 'you', 'know', '.', 'It', \"'s\", 'hard', 'to', 'process', 'right', 'now', '.', 'It', \"'s\", 'hard', '.', 'That', \"'s\", 'all', '.', \"''\", 'The', 'Bucks', 'led', 'by', '13', 'points', 'after', 'the', 'first', 'quarter', ',', '29-16', '.', 'Antetokounmpo', 'had', '10', 'points', 'and', 'six', 'rebounds', 'in', 'the', 'period', '.', 'The', 'Suns', 'shot', '7', 'for', '24', '(', '29', '%', ')', 'in', 'the', 'quarter', '.', 'It', 'was', 'Phoenix', \"'s\", 'lowest', 'point', 'total', 'for', 'the', 'first', 'quarter', 'in', 'the', '2021', 'playoffs', '.', 'But', 'Paul', 'led', 'a', 'Suns', \"'\", 'rally', ',', 'scoring', '10', 'points', 'as', 'Phoenix', 'quickly', 'made', 'up', 'the', 'deficit', 'and', 'took', 'a', '47-42', 'lead', 'into', 'halftime', '.', 'The', 'score', 'was', 'tied', 'at', '77', 'after', 'three', 'quarters', 'as', 'Antetokounmpo', 'poured', 'in', '20', 'points', 'in', 'the', 'period', '.', 'He', 'had', '13', 'more', 'in', 'the', 'fourth', 'quarter', 'as', 'the', 'Bucks', 'pulled', 'away', ',', 'including', 'a', 'stretch', 'where', 'he', 'scored', 'six', 'consecutive', 'points', 'for', 'his', 'team', '.', 'In', '1971', ',', 'the', 'Bucks', 'won', 'the', 'title', 'in', 'their', 'third', 'season', 'behind', 'the', 'standout', 'play', 'of', 'Kareem', 'Abdul-Jabbar', '(', 'then', 'Lew', 'Alcindor', ')', 'and', 'Oscar', 'Robertson', '.', 'They', 'beat', 'the', 'Baltimore', 'Bullets', 'in', 'the', 'final', 'four', 'games', 'to', 'none', ',', 'winning', 'the', 'final', 'game', 'on', 'the', 'road', '.', 'This', 'was', 'the', 'Bucks', \"'\", 'first', 'appearance', 'in', 'the', 'Finals', 'since', '1974', 'and', 'it', 'was', 'the', 'Suns', \"'\", 'third', 'appearance', 'in', 'the', 'Finals', ',', 'the', 'most', 'recent', 'coming', 'in', '1993', '.', 'The', 'franchise', 'has', 'never', 'won', 'an', 'NBA', 'championship', '.', 'Three', 'players', 'from', 'the', 'NBA', 'Finals', 'will', 'head', 'to', 'Tokyo', 'to', 'suit', 'up', 'for', 'Team', 'USA', 'in', 'the', 'Olympics', ':', 'Middleton', ',', 'Bucks', 'guard', 'Jrue', 'Holiday', 'and', 'Suns', 'guard', 'Devin', 'Booker', '.', 'After', 'the', 'game', ',', 'Booker', 'said', 'he', \"'d\", 'be', 'boarding', 'a', 'plane', 'in', 'a', 'few', 'hours', '.', 'The', 'American', 'Academy', 'of', 'Pediatrics', 'released', 'new', 'Covid-19', 'guidance', 'for', 'schools', 'on', 'Monday', 'that', 'supports', 'in-person', 'learning', 'and', 'recommends', 'universal', 'masking', 'in', 'school', 'of', 'everyone', 'over', 'the', 'age', 'of', '2', ',', 'regardless', 'of', 'vaccination', 'status', '--', 'a', 'stricter', 'position', 'than', 'that', 'taken', 'this', 'month', 'by', 'the', 'US', 'Centers', 'for', 'Disease', 'Control', 'and', 'Prevention', '.', '``', 'The', 'AAP', 'believes', 'that', ',', 'at', 'this', 'point', 'in', 'the', 'pandemic', ',', 'given', 'what', 'we', 'know', 'about', 'low', 'rates', 'of', 'in-school', 'transmission', 'when', 'proper', 'prevention', 'measures', 'are', 'used', ',', 'together', 'with', 'the', 'availability', 'of', 'effective', 'vaccines', 'for', 'those', 'age', '12', 'years', 'and', 'up', ',', 'that', 'the', 'benefits', 'of', 'in-person', 'school', 'outweigh', 'the', 'risks', 'in', 'all', 'circumstances', ',', \"''\", 'the', 'guidance', 'says', '.', 'One', 'of', 'the', 'main', 'interventions', 'put', 'forward', 'by', 'the', 'AAP', 'is', 'that', 'all', 'students', 'over', 'the', 'age', 'of', '2', 'and', 'all', 'school', 'staff', 'should', 'wear', 'masks', 'at', 'school', 'unless', 'they', 'have', 'a', 'medical', 'or', 'developmental', 'condition', 'that', 'prohibits', 'this', '.', 'Reasons', 'for', 'this', 'recommendation', 'include', 'but', 'are', 'not', 'limited', 'to', ':', 'a', 'significant', 'proportion', 'of', 'the', 'student', 'population', 'is', 'not', 'yet', 'eligible', 'for', 'vaccination', ';', 'masking', 'protects', 'those', 'who', 'are', 'not', 'vaccinated', 'against', 'Covid-19', 'and', 'reduces', 'transmission', ';', 'and', 'potential', 'difficulty', 'in', 'monitoring', 'or', 'enforcing', 'mask', 'policies', 'for', 'those', 'who', 'are', 'not', 'vaccinated', '.', '``', 'There', 'are', 'many', 'children', 'and', 'others', 'who', 'can', 'not', 'be', 'vaccinated', ',', \"''\", 'Dr.', 'Sara', 'Bode', ',', 'chair-elect', 'of', 'the', 'AAP', 'Council', 'on', 'School', 'Health', 'Executive', 'Committee', ',', 'said', 'Monday', 'in', 'a', 'statement', '.', '``', 'This', 'is', 'why', 'it', \"'s\", 'important', 'to', 'use', 'every', 'tool', 'in', 'our', 'toolkit', 'to', 'safeguard', 'children', 'from', 'COVID-19', '.', 'Universal', 'masking', 'is', 'one', 'of', 'those', 'tools', ',', 'and', 'has', 'been', 'proven', 'effective', 'in', 'protecting', 'people', 'against', 'other', 'respiratory', 'diseases', ',', 'as', 'well', '.', 'It', \"'s\", 'also', 'the', 'most', 'effective', 'strategy', 'to', 'create', 'consistent', 'messages', 'and', 'expectations', 'among', 'students', 'without', 'the', 'added', 'burden', 'of', 'needing', 'to', 'monitor', 'everyone', \"'s\", 'vaccination', 'status', '.', \"''\", 'The', 'AAP', \"'s\", 'recommendation', 'on', 'universal', 'masking', 'is', 'different', 'from', 'guidance', 'by', 'CDC', ',', 'which', 'also', 'prioritized', 'in-person', 'learning', 'but', 'advised', 'that', 'fully', 'vaccinated', 'students', ',', 'teachers', 'and', 'staff', 'do', \"n't\", 'need', 'to', 'wear', 'masks', 'at', 'school', '.', 'AAP', \"'s\", 'more', 'cautious', 'mask', 'guidance', 'is', 'understandable', ',', 'said', 'Dr.', 'Anthony', 'Fauci', ',', 'director', 'of', 'the', 'National', 'Institute', 'of', 'Allergy', 'and', 'Infectious', 'Diseases', '.', '``', 'When', 'you', 'have', 'a', 'degree', 'of', 'viral', 'dynamics', 'in', 'the', 'community', 'and', 'you', 'have', 'a', 'substantial', 'proportion', 'of', 'the', 'population', 'that', 'is', 'unvaccinated', ',', 'you', 'really', 'want', 'to', 'go', 'the', 'extra', 'step', ',', 'the', 'extra', 'mile', ',', 'to', 'make', 'sure', 'that', 'there', 'is', 'not', 'a', 'lot', 'of', 'transmission', ',', 'even', 'breakthrough', 'infections', 'among', 'vaccinated', 'individuals', ',', \"''\", 'Fauci', 'told', 'CNN', 'on', 'Monday', '.', 'The', 'differing', 'guidance', 'could', 'cause', 'some', 'confusion', ',', 'Fauci', 'acknowledged', 'while', 'noting', 'the', 'CDC', \"'s\", 'guidance', 'allows', 'for', 'local', 'states', ',', 'cities', 'and', 'other', 'agencies', 'to', 'make', 'their', 'own', 'judgments', '.', '``', 'I', 'think', 'that', 'the', 'American', 'Academy', 'of', 'Pediatrics', '(', 'is', ')', 'a', 'thoughtful', 'group', '.', 'They', 'analyze', 'the', 'situation', ',', 'and', 'if', 'they', 'feel', 'that', 'that', \"'s\", 'the', 'way', 'to', 'go', ',', 'I', 'think', 'that', 'is', 'a', 'reasonable', 'thing', 'to', 'do', ',', \"''\", 'he', 'said', '.', 'Extreme', 'heat', 'and', 'dry', 'conditions', 'are', 'fueling', 'raging', 'wildfires', 'in', 'the', 'western', 'US', ',', 'charring', 'more', 'than', 'a', 'million', 'acres', ',', 'requiring', 'evacuations', 'and', 'creating', 'smoky', 'conditions', 'visible', 'from', 'space', '.', 'Smoke', 'stretched', 'early', 'Wednesday', 'all', 'the', 'way', 'to', 'the', 'East', 'Coast', ',', 'including', 'New', 'York', 'City', ',', 'because', 'high-level', 'winds', 'carried', 'them', 'thousands', 'of', 'miles', 'from', 'the', 'West', '.', 'The', 'smoke', 'mixed', 'down', 'to', 'the', 'surface', 'in', 'New', 'York', 'City', ',', 'creating', 'an', 'eerie', 'scene', 'Wednesday', 'morning', '--', 'though', 'a', 'cold', 'front', 'is', 'expected', 'to', 'usher', 'the', 'smoke', 'out', 'of', 'the', 'area', 'later', 'in', 'the', 'day', '.', 'In', 'the', 'West', ',', 'the', 'fires', 'have', 'caused', 'power', 'outages', ',', 'destroyed', 'structures', 'and', 'prompted', 'the', 'deployment', 'of', 'the', 'Oregon', 'National', 'Guard', '.', 'As', 'extreme', 'drought', 'still', 'grips', 'most', 'of', 'the', 'West', 'and', 'the', 'fires', 'have', 'become', 'so', 'intense', 'they', \"'ve\", 'created', 'their', 'own', 'weather', 'systems', ',', 'the', 'threat', 'of', 'more', 'fires', 'remains', '.', 'In', 'Oregon', '--', 'where', 'eight', 'fires', 'have', 'burned', 'nearly', '475,000', 'acres', '--', 'officials', 'said', 'the', 'current', 'fire', 'season', 'is', 'unlike', 'any', 'they', \"'ve\", 'seen', 'before', '.', '``', 'I', 'would', 'categorize', 'this', 'fire', 'season', 'thus', 'far', 'as', 'historic', 'in', 'terms', 'of', 'the', 'amount', 'of', 'resources', 'we', \"'ve\", 'deployed', ',', 'how', 'many', 'times', 'we', \"'ve\", 'deployed', '--', 'within', 'a', 'three-week', 'period', 'we', \"'ve\", 'mobilized', 'to', 'six', 'conflagrations', '--', 'and', 'this', 'is', 'the', 'earliest', 'and', 'most', 'significant', 'mobilization', 'to', 'date', ',', \"''\", 'Mariana', 'Ruiz-Temple', 'with', 'the', 'Oregon', 'fire', 'marshal', \"'s\", 'office', 'said', 'Tuesday', '.', 'At', 'least', '1.29', 'million', 'acres', 'have', 'burned', 'in', '83', 'large', 'fires', 'across', '13', 'states', 'as', 'of', 'Tuesday', ',', 'according', 'to', 'the', 'National', 'Interagency', 'Fire', 'Center', '.', 'More', 'than', '19,000', 'wildland', 'firefighters', 'and', 'support', 'personnel', 'have', 'been', 'deployed', 'to', 'deal', 'with', 'the', 'blazes', '.', 'Advisories', 'for', 'elevated', 'fire', 'potential', 'and', 'activity', 'have', 'been', 'issued', 'across', 'Idaho', ',', 'California', ',', 'Oregon', 'and', 'the', 'Northern', 'Rockies', ',', 'according', 'to', 'fire', 'center', '.', 'It', \"'s\", 'not', 'just', 'fires', 'in', 'the', 'US', 'contributing', 'to', 'the', 'smoky', 'haze', '.', 'The', 'Canadian', 'province', 'of', 'British', 'Columbia', 'declared', 'an', 'emergency', 'due', 'to', 'wildfires', 'there', 'effective', 'Wednesday', '.', 'Nearly', '300', 'active', 'wildfires', 'have', 'been', 'reported', 'in', 'the', 'province', '.']\n"
     ]
    }
   ],
   "source": [
    "print(palavras2)"
   ]
  },
  {
   "cell_type": "code",
   "execution_count": 15,
   "id": "95997150-0653-48f0-8f92-74a20c042b07",
   "metadata": {},
   "outputs": [],
   "source": [
    "freq2 = FreqDist(palavras2)"
   ]
  },
  {
   "cell_type": "code",
   "execution_count": 28,
   "id": "9974e2f5-63ff-414f-8709-1409f61cd47b",
   "metadata": {},
   "outputs": [
    {
     "data": {
      "text/plain": [
       "[('the', 87),\n",
       " (',', 71),\n",
       " ('.', 71),\n",
       " ('in', 40),\n",
       " ('and', 36),\n",
       " ('to', 36),\n",
       " ('of', 31),\n",
       " ('a', 26),\n",
       " (\"'s\", 17),\n",
       " ('for', 17),\n",
       " ('that', 14),\n",
       " ('is', 14),\n",
       " ('``', 13),\n",
       " ('I', 13),\n",
       " (\"''\", 13),\n",
       " ('have', 12),\n",
       " ('they', 11),\n",
       " ('points', 10),\n",
       " ('said', 10),\n",
       " ('it', 10),\n",
       " ('The', 10),\n",
       " ('Suns', 9),\n",
       " ('Bucks', 8),\n",
       " ('--', 8),\n",
       " ('was', 8)]"
      ]
     },
     "execution_count": 28,
     "metadata": {},
     "output_type": "execute_result"
    }
   ],
   "source": [
    "freq2.most_common(25)"
   ]
  },
  {
   "cell_type": "code",
   "execution_count": 29,
   "id": "aeb4503e-5f7d-4fde-9399-bfb897e6e0a6",
   "metadata": {},
   "outputs": [
    {
     "data": {
      "text/plain": [
       "<Axes: xlabel='Samples', ylabel='Counts'>"
      ]
     },
     "execution_count": 29,
     "metadata": {},
     "output_type": "execute_result"
    },
    {
     "data": {
      "image/png": "[encoded data removed]",
      "text/plain": [
       "<Figure size 640x480 with 1 Axes>"
      ]
     },
     "metadata": {},
     "output_type": "display_data"
    }
   ],
   "source": [
    "freq2.plot(25)"
   ]
  }
 ],
 "metadata": {
  "kernelspec": {
   "display_name": "Python 3 (ipykernel)",
   "language": "python",
   "name": "python3"
  },
  "language_info": {
   "codemirror_mode": {
    "name": "ipython",
    "version": 3
   },
   "file_extension": ".py",
   "mimetype": "text/x-python",
   "name": "python",
   "nbconvert_exporter": "python",
   "pygments_lexer": "ipython3",
   "version": "3.12.4"
  }
 },
 "nbformat": 4,
 "nbformat_minor": 5
}
