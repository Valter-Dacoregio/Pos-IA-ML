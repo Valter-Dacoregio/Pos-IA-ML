{
 "cells": [
  {
   "cell_type": "code",
   "execution_count": 31,
   "id": "1bd0d7ef-443d-4755-ae9f-bf6c414ca7b4",
   "metadata": {},
   "outputs": [
    {
     "name": "stdout",
     "output_type": "stream",
     "text": [
      "************************************************\n",
      "Eu amo programar em Python!\n",
      "Polaridade: 0.0, Subjetividade: 0.0\n",
      "************************************************\n",
      "************************************************\n",
      "Estou triste!\n",
      "Polaridade: 0.0, Subjetividade: 0.0\n",
      "************************************************\n",
      "************************************************\n",
      "Estou feliz!\n",
      "Polaridade: 0.0, Subjetividade: 0.0\n",
      "************************************************\n",
      "************************************************\n",
      "Que filme legal!\n",
      "Polaridade: 0.25, Subjetividade: 0.2\n",
      "************************************************\n",
      "************************************************\n",
      "Que filme chato!\n",
      "Polaridade: 0.0, Subjetividade: 0.0\n",
      "************************************************\n"
     ]
    }
   ],
   "source": [
    "#******************************\n",
    "# Usando TextBlob\n",
    "#******************************\n",
    "\n",
    "from textblob import TextBlob\n",
    "\n",
    "# Exemplo de texto\n",
    "textos = []\n",
    "textos.append(\"Eu amo programar em Python!\")\n",
    "textos.append(\"Estou triste!\")\n",
    "textos.append(\"Estou feliz!\")\n",
    "textos.append(\"Que filme legal!\")\n",
    "textos.append(\"Que filme chato!\")\n",
    "\n",
    "# Análise de sentimento\n",
    "for texto in textos:\n",
    "    blob = TextBlob(texto)\n",
    "    sentimento = blob.sentiment\n",
    "    print(\"************************************************\")\n",
    "    print(texto)\n",
    "    print(f\"Polaridade: {sentimento.polarity}, Subjetividade: {sentimento.subjectivity}\")\n",
    "\n",
    "    print(\"************************************************\")"
   ]
  },
  {
   "cell_type": "code",
   "execution_count": 37,
   "id": "ab9bf567-7c9b-4d06-9721-8e3c07374802",
   "metadata": {},
   "outputs": [
    {
     "name": "stdout",
     "output_type": "stream",
     "text": [
      "{'neg': 0.0, 'neu': 1.0, 'pos': 0.0, 'compound': 0.0}\n"
     ]
    }
   ],
   "source": [
    "#******************************\n",
    "# Usando VADER\n",
    "#******************************\n",
    "from vaderSentiment.vaderSentiment import SentimentIntensityAnalyzer\n",
    "\n",
    "# Criar o analisador\n",
    "analisador = SentimentIntensityAnalyzer()\n",
    "\n",
    "# Exemplo de texto\n",
    "texto = \"Isso é incrível!\"\n",
    "\n",
    "# Análise de sentimento\n",
    "resultado = analisador.polarity_scores(texto)\n",
    "\n",
    "print(resultado)  # {'neg': 0.0, 'neu': 0.482, 'pos': 0.518, 'compound': 0.6369}"
   ]
  },
  {
   "cell_type": "code",
   "execution_count": 43,
   "id": "a6dbd50d-6a53-4ae9-b17e-658a79773efd",
   "metadata": {},
   "outputs": [
    {
     "name": "stderr",
     "output_type": "stream",
     "text": [
      "Some weights of BertForSequenceClassification were not initialized from the model checkpoint at neuralmind/bert-base-portuguese-cased and are newly initialized: ['classifier.bias', 'classifier.weight']\n",
      "You should probably TRAIN this model on a down-stream task to be able to use it for predictions and inference.\n"
     ]
    },
    {
     "name": "stdout",
     "output_type": "stream",
     "text": [
      "[{'label': 'LABEL_0', 'score': 0.5211794376373291}]\n"
     ]
    }
   ],
   "source": [
    "from transformers import pipeline\n",
    "\n",
    "# Criar o pipeline de análise de sentimentos com um modelo amplamente disponível\n",
    "analisador = pipeline(\"sentiment-analysis\", model=\"neuralmind/bert-base-portuguese-cased\", device=0)\n",
    "\n",
    "# Exemplo de texto\n",
    "texto = \"O filme foi absolutamente maravilhoso!\"\n",
    "\n",
    "# Análise de sentimento\n",
    "resultado = analisador(texto)\n",
    "\n",
    "print(resultado)  # Deve retornar algo como [{'label': 'POSITIVE', 'score': 0.999}]\n"
   ]
  },
  {
   "cell_type": "code",
   "execution_count": 48,
   "id": "fa7a542f-1f92-4a09-ba48-70270d85f563",
   "metadata": {},
   "outputs": [
    {
     "name": "stdout",
     "output_type": "stream",
     "text": [
      "Frase: Eu adoro aprender Python!\n",
      "Polaridade: 0.0, Subjetividade: 0.0\n",
      "\n",
      "Frase: Este é o pior filme que já vi.\n",
      "Polaridade: 0.0, Subjetividade: 0.0\n",
      "\n",
      "Frase: A comida estava ok, mas o serviço foi excelente.\n",
      "Polaridade: 0.5, Subjetividade: 0.5\n",
      "\n"
     ]
    }
   ],
   "source": [
    "# Polaridade: Varia de -1 (muito negativo) a 1 (muito positivo).\n",
    "# Subjetividade: Varia de 0 (objetivo) a 1 (subjetivo).\n",
    "\n",
    "from textblob import TextBlob\n",
    "\n",
    "def analisar_sentimento(texto):\n",
    "    blob = TextBlob(texto)\n",
    "    sentimento = blob.sentiment\n",
    "    return sentimento.polarity, sentimento.subjectivity\n",
    "\n",
    "frases = [\n",
    "    \"Eu adoro aprender Python!\",\n",
    "    \"Este é o pior filme que já vi.\",\n",
    "    \"A comida estava ok, mas o serviço foi excelente.\"\n",
    "]\n",
    "\n",
    "for frase in frases:\n",
    "    polaridade, subjetividade = analisar_sentimento(frase)\n",
    "    print(f\"Frase: {frase}\\nPolaridade: {polaridade}, Subjetividade: {subjetividade}\\n\")\n"
   ]
  },
  {
   "cell_type": "code",
   "execution_count": 49,
   "id": "b99b5e10-9a13-4791-872e-d0af85106699",
   "metadata": {},
   "outputs": [
    {
     "name": "stderr",
     "output_type": "stream",
     "text": [
      "[nltk_data] Downloading package vader_lexicon to\n",
      "[nltk_data]     /Users/valter/nltk_data...\n"
     ]
    },
    {
     "name": "stdout",
     "output_type": "stream",
     "text": [
      "Frase: Eu adoro aprender Python!\n",
      "Resultado: {'neg': 0.0, 'neu': 1.0, 'pos': 0.0, 'compound': 0.0}\n",
      "\n",
      "Frase: Este é o pior filme que já vi.\n",
      "Resultado: {'neg': 0.0, 'neu': 1.0, 'pos': 0.0, 'compound': 0.0}\n",
      "\n",
      "Frase: A comida estava ok, mas o serviço foi excelente.\n",
      "Resultado: {'neg': 0.0, 'neu': 0.732, 'pos': 0.268, 'compound': 0.296}\n",
      "\n"
     ]
    }
   ],
   "source": [
    "import nltk\n",
    "nltk.download('vader_lexicon')\n",
    "\n",
    "from nltk.sentiment.vader import SentimentIntensityAnalyzer\n",
    "\n",
    "def analisar_sentimento_vader(texto):\n",
    "    sia = SentimentIntensityAnalyzer()\n",
    "    # Para um resultado em português, você pode traduzir as frases para inglês ou ajustar as pontuações manualmente.\n",
    "    # Aqui, vamos usar o VADER direto para o exemplo.\n",
    "    pontuacoes = sia.polarity_scores(texto)\n",
    "    return pontuacoes\n",
    "\n",
    "frases = [\n",
    "    \"Eu adoro aprender Python!\",\n",
    "    \"Este é o pior filme que já vi.\",\n",
    "    \"A comida estava ok, mas o serviço foi excelente.\"\n",
    "]\n",
    "\n",
    "for frase in frases:\n",
    "    resultado = analisar_sentimento_vader(frase)\n",
    "    print(f\"Frase: {frase}\\nResultado: {resultado}\\n\")\n"
   ]
  },
  {
   "cell_type": "code",
   "execution_count": 51,
   "id": "52dcecaf-ad4b-4d7a-8dd6-e5002e34970d",
   "metadata": {},
   "outputs": [
    {
     "name": "stdout",
     "output_type": "stream",
     "text": [
      "zsh:1: command not found: pip\n"
     ]
    },
    {
     "name": "stderr",
     "output_type": "stream",
     "text": [
      "huggingface/tokenizers: The current process just got forked, after parallelism has already been used. Disabling parallelism to avoid deadlocks...\n",
      "To disable this warning, you can either:\n",
      "\t- Avoid using `tokenizers` before the fork if possible\n",
      "\t- Explicitly set the environment variable TOKENIZERS_PARALLELISM=(true | false)\n",
      "Some weights of BertForSequenceClassification were not initialized from the model checkpoint at neuralmind/bert-base-portuguese-cased and are newly initialized: ['classifier.bias', 'classifier.weight']\n",
      "You should probably TRAIN this model on a down-stream task to be able to use it for predictions and inference.\n",
      "Hardware accelerator e.g. GPU is available in the environment, but no `device` argument is passed to the `Pipeline` object. Model will be on CPU.\n"
     ]
    },
    {
     "name": "stdout",
     "output_type": "stream",
     "text": [
      "Frase: Eu adoro aprender Python!\n",
      "Resultado: [{'label': 'LABEL_1', 'score': 0.5206407904624939}]\n",
      "\n",
      "Frase: Este é o pior filme que já vi.\n",
      "Resultado: [{'label': 'LABEL_0', 'score': 0.5116172432899475}]\n",
      "\n",
      "Frase: A comida estava ok, mas o serviço foi excelente.\n",
      "Resultado: [{'label': 'LABEL_0', 'score': 0.5294108390808105}]\n",
      "\n"
     ]
    }
   ],
   "source": [
    "!pip install transformers torch\n",
    "\n",
    "from transformers import pipeline\n",
    "\n",
    "# Carregar o pipeline para análise de sentimentos\n",
    "# analisador = pipeline(\"sentiment-analysis\", model=\"pysentimiento/roberta-base-portuguese-sentiment\")\n",
    "analisador = pipeline(\"sentiment-analysis\", model=\"neuralmind/bert-base-portuguese-cased\")\n",
    "\n",
    "# Testar com frases em português\n",
    "frases = [\n",
    "    \"Eu adoro aprender Python!\",\n",
    "    \"Este é o pior filme que já vi.\",\n",
    "    \"A comida estava ok, mas o serviço foi excelente.\"\n",
    "]\n",
    "\n",
    "for frase in frases:\n",
    "    resultado = analisador(frase)\n",
    "    print(f\"Frase: {frase}\\nResultado: {resultado}\\n\")\n"
   ]
  },
  {
   "cell_type": "code",
   "execution_count": 54,
   "id": "46d02478-ec9d-49df-bc2b-357e23f98b7a",
   "metadata": {},
   "outputs": [
    {
     "name": "stdout",
     "output_type": "stream",
     "text": [
      "Frase original: Eu adoro aprender Python!\n",
      "Tradução: I love learning Python!\n",
      "\n",
      "Frase original: Este é o pior filme que já vi.\n",
      "Tradução: This is the worst movie I've ever seen.\n",
      "\n",
      "Frase original: A comida estava ok, mas o serviço foi excelente.\n",
      "Tradução: The food was ok, but the service was excellent.\n",
      "\n"
     ]
    }
   ],
   "source": [
    "# !pip install googletrans==4.0.0-rc1\n",
    "\n",
    "from googletrans import Translator\n",
    "\n",
    "def traduzir_texto(texto):\n",
    "    translator = Translator()\n",
    "    traducao = translator.translate(texto, src='pt', dest='en')\n",
    "    return traducao.text\n",
    "\n",
    "frases = [\n",
    "    \"Eu adoro aprender Python!\",\n",
    "    \"Este é o pior filme que já vi.\",\n",
    "    \"A comida estava ok, mas o serviço foi excelente.\"\n",
    "]\n",
    "\n",
    "for frase in frases:\n",
    "    traducao = traduzir_texto(frase)\n",
    "    print(f\"Frase original: {frase}\\nTradução: {traducao}\\n\")\n"
   ]
  },
  {
   "cell_type": "code",
   "execution_count": 59,
   "id": "24eb404f-a833-4af0-bb77-85ef9db86c2a",
   "metadata": {},
   "outputs": [
    {
     "name": "stdout",
     "output_type": "stream",
     "text": [
      "Eu adoro aprender Python!\n",
      "************************************************\n",
      "Frase original: Eu adoro aprender Python!\n",
      "Tradução: I love learning Python!\n",
      "\n",
      "Polaridade: 0.625, Subjetividade: 0.6\n",
      "************************************************\n",
      "Este é o pior filme que já vi.\n",
      "************************************************\n",
      "Frase original: Este é o pior filme que já vi.\n",
      "Tradução: This is the worst movie I've ever seen.\n",
      "\n",
      "Polaridade: -1.0, Subjetividade: 1.0\n",
      "************************************************\n",
      "A comida estava ok, mas o serviço foi excelente.\n",
      "************************************************\n",
      "Frase original: A comida estava ok, mas o serviço foi excelente.\n",
      "Tradução: The food was ok, but the service was excellent.\n",
      "\n",
      "Polaridade: 0.75, Subjetividade: 0.75\n",
      "************************************************\n",
      "Estou triste.\n",
      "************************************************\n",
      "Frase original: Estou triste.\n",
      "Tradução: I am sad.\n",
      "\n",
      "Polaridade: -0.5, Subjetividade: 1.0\n",
      "************************************************\n",
      "Estou feliz\n",
      "************************************************\n",
      "Frase original: Estou feliz\n",
      "Tradução: I am happy\n",
      "\n",
      "Polaridade: 0.8, Subjetividade: 1.0\n",
      "************************************************\n",
      "Estou triste e feliz.\n",
      "************************************************\n",
      "Frase original: Estou triste e feliz.\n",
      "Tradução: I'm sad and happy.\n",
      "\n",
      "Polaridade: 0.15000000000000002, Subjetividade: 1.0\n",
      "************************************************\n",
      "Está chovendo.\n",
      "************************************************\n",
      "Frase original: Está chovendo.\n",
      "Tradução: It is raining.\n",
      "\n",
      "Polaridade: 0.0, Subjetividade: 0.0\n",
      "************************************************\n"
     ]
    }
   ],
   "source": [
    "# !pip install googletrans==4.0.0-rc1\n",
    "\n",
    "# Polaridade\n",
    "# -1.0 a -0.1: Sentimento negativo\n",
    "# 0.0: Neutro\n",
    "# 0.1 a 1.0: Sentimento positivo\n",
    "# Subjetividade\n",
    "# 0.0: Objetivo (factual)\n",
    "# 0.1 a 0.5: Levemente subjetivo\n",
    "# 0.6 a 1.0: Subjetivo (opinião pessoal)\n",
    "\n",
    "\n",
    "from googletrans import Translator\n",
    "from textblob import TextBlob\n",
    "    \n",
    "def traduzir_texto(texto):\n",
    "    translator = Translator()\n",
    "    traducao = translator.translate(texto, src='pt', dest='en')\n",
    "    return traducao.text\n",
    "\n",
    "def analisar(texto):\n",
    "    blob = TextBlob(texto)\n",
    "    sentimento = blob.sentiment\n",
    "    return sentimento\n",
    "\n",
    "frases = [\n",
    "    \"Eu adoro aprender Python!\",\n",
    "    \"Este é o pior filme que já vi.\",\n",
    "    \"A comida estava ok, mas o serviço foi excelente.\",\n",
    "    \"Estou triste.\",\n",
    "    \"Estou feliz\",\n",
    "    \"Estou triste e feliz.\",\n",
    "    \"Está chovendo.\",\n",
    "    \"obrigado\",\n",
    "]\n",
    "\n",
    "for frase in frases:\n",
    "    traducaoIngles = traduzir_texto(frase)\n",
    "    sentimento = analisar(traducaoIngles)\n",
    "    print(frase)\n",
    "    print(\"************************************************\")\n",
    "    print(f\"Frase original: {frase}\\nTradução: {traducaoIngles}\\n\")\n",
    "    print(f\"Polaridade: {sentimento.polarity}, Subjetividade: {sentimento.subjectivity}\")\n",
    "    print(\"************************************************\")\n"
   ]
  },
  {
   "cell_type": "code",
   "execution_count": null,
   "id": "8d9d518a-8cbe-4d49-a0d2-cf38ea82cd3d",
   "metadata": {},
   "outputs": [],
   "source": []
  }
 ],
 "metadata": {
  "kernelspec": {
   "display_name": "Python 3 (ipykernel)",
   "language": "python",
   "name": "python3"
  },
  "language_info": {
   "codemirror_mode": {
    "name": "ipython",
    "version": 3
   },
   "file_extension": ".py",
   "mimetype": "text/x-python",
   "name": "python",
   "nbconvert_exporter": "python",
   "pygments_lexer": "ipython3",
   "version": "3.12.4"
  }
 },
 "nbformat": 4,
 "nbformat_minor": 5
}
