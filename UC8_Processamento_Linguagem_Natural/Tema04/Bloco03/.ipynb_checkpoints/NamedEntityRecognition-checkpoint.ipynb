{
 "cells": [
  {
   "cell_type": "code",
   "execution_count": null,
   "id": "18f59a45-05db-43c6-8ee5-5f1434252948",
   "metadata": {},
   "outputs": [],
   "source": [
    "# https://spacy.io/usage"
   ]
  }
 ],
 "metadata": {
  "kernelspec": {
   "display_name": "Python 3 (ipykernel)",
   "language": "python",
   "name": "python3"
  },
  "language_info": {
   "codemirror_mode": {
    "name": "ipython",
    "version": 3
   },
   "file_extension": ".py",
   "mimetype": "text/x-python",
   "name": "python",
   "nbconvert_exporter": "python",
   "pygments_lexer": "ipython3",
   "version": "3.12.4"
  }
 },
 "nbformat": 4,
 "nbformat_minor": 5
}
